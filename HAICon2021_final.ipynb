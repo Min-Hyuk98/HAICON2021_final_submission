{
 "cells": [
  {
   "cell_type": "markdown",
   "metadata": {},
   "source": [
    "Baseline을 기반으로 코드를 작성했습니다. baseline과 다른 곳에 주석을 달겠습니다."
   ]
  },
  {
   "cell_type": "code",
   "execution_count": 1,
   "metadata": {},
   "outputs": [],
   "source": [
    "#-*- coding: utf-8 -*-"
   ]
  },
  {
   "cell_type": "code",
   "execution_count": 2,
   "metadata": {
    "id": "Bc3sGkZuszKZ"
   },
   "outputs": [],
   "source": [
    "%reload_ext watermark"
   ]
  },
  {
   "cell_type": "code",
   "execution_count": 3,
   "metadata": {
    "colab": {
     "base_uri": "https://localhost:8080/"
    },
    "id": "gmY4pOzqszKc",
    "outputId": "5c43e5d9-a195-4a48-a4ac-d36e53be37ee"
   },
   "outputs": [
    {
     "name": "stdout",
     "output_type": "stream",
     "text": [
      "CPython 3.6.13\n",
      "IPython 7.16.1\n",
      "\n",
      "dateutil 2.8.2\n",
      "numpy 1.18.5\n",
      "matplotlib 3.3.4\n",
      "pandas 1.1.5\n",
      "torch 1.9.1\n",
      "tqdm 4.62.3\n",
      "TaPR_pkg unknown\n",
      "cv2 4.5.3\n"
     ]
    }
   ],
   "source": [
    "%watermark -v -p dateutil,numpy,matplotlib,pandas,torch,tqdm,TaPR_pkg,cv2"
   ]
  },
  {
   "cell_type": "code",
   "execution_count": 4,
   "metadata": {
    "id": "UVlTqEXRszKd"
   },
   "outputs": [],
   "source": [
    "import sys\n",
    "\n",
    "from pathlib import Path\n",
    "from datetime import timedelta\n",
    "\n",
    "import dateutil\n",
    "import numpy as np\n",
    "import matplotlib.pyplot as plt\n",
    "import pandas as pd\n",
    "import torch\n",
    "\n",
    "from torch.utils.data import Dataset, DataLoader\n",
    "from tqdm.notebook import trange\n",
    "from TaPR_pkg import etapr\n",
    "\n",
    "import os\n",
    "import random\n",
    "\n",
    "import torch.nn as nn\n",
    "from scipy import signal"
   ]
  },
  {
   "cell_type": "code",
   "execution_count": 5,
   "metadata": {
    "id": "hDp7N-vDsdhf"
   },
   "outputs": [],
   "source": [
    "# random seed를 고정하기 위해서 사용했습니다.\n",
    "def seed_everything(seed = 777):\n",
    "    random.seed(seed)\n",
    "    os.environ[\"PYTHONHASHSEED\"] = str(seed)\n",
    "    np.random.seed(seed)\n",
    "    torch.manual_seed(seed)\n",
    "    torch.cuda.manual_seed(seed)\n",
    "    torch.backends.cudnn.deterministic = True\n",
    "    torch.backends.cudnn.benchmark = False\n",
    "seed_everything()"
   ]
  },
  {
   "cell_type": "code",
   "execution_count": 6,
   "metadata": {
    "colab": {
     "base_uri": "https://localhost:8080/"
    },
    "id": "cf3cdOw6szKe",
    "outputId": "48d04da0-a574-4c14-b99d-a2b0becc0b98"
   },
   "outputs": [
    {
     "data": {
      "text/plain": [
       "[PosixPath('data/train/train1.csv'),\n",
       " PosixPath('data/train/train2.csv'),\n",
       " PosixPath('data/train/train3.csv'),\n",
       " PosixPath('data/train/train4.csv'),\n",
       " PosixPath('data/train/train5.csv'),\n",
       " PosixPath('data/train/train6.csv')]"
      ]
     },
     "execution_count": 6,
     "metadata": {},
     "output_type": "execute_result"
    }
   ],
   "source": [
    "TRAIN_DATASET = sorted([x for x in Path(\"./data/train\").glob(\"*.csv\")])\n",
    "TRAIN_DATASET"
   ]
  },
  {
   "cell_type": "code",
   "execution_count": 7,
   "metadata": {
    "colab": {
     "base_uri": "https://localhost:8080/"
    },
    "id": "zDPGpSoLszKg",
    "outputId": "5d6039e9-241f-4f00-86eb-765962c8b195"
   },
   "outputs": [
    {
     "data": {
      "text/plain": [
       "[PosixPath('data/test/test1.csv'),\n",
       " PosixPath('data/test/test2.csv'),\n",
       " PosixPath('data/test/test3.csv')]"
      ]
     },
     "execution_count": 7,
     "metadata": {},
     "output_type": "execute_result"
    }
   ],
   "source": [
    "TEST_DATASET = sorted([x for x in Path(\"./data/test\").glob(\"*.csv\")])\n",
    "TEST_DATASET"
   ]
  },
  {
   "cell_type": "code",
   "execution_count": 8,
   "metadata": {
    "colab": {
     "base_uri": "https://localhost:8080/"
    },
    "id": "5E-IlNSbszKh",
    "outputId": "5bc470d4-b683-4e73-ae96-f471dc4afb2e"
   },
   "outputs": [
    {
     "data": {
      "text/plain": [
       "[PosixPath('data/validation/validation.csv')]"
      ]
     },
     "execution_count": 8,
     "metadata": {},
     "output_type": "execute_result"
    }
   ],
   "source": [
    "VALIDATION_DATASET = sorted([x for x in Path(\"./data/validation\").glob(\"*.csv\")])\n",
    "VALIDATION_DATASET"
   ]
  },
  {
   "cell_type": "code",
   "execution_count": 9,
   "metadata": {
    "id": "8vN7TzvDszKh"
   },
   "outputs": [],
   "source": [
    "def dataframe_from_csv(target):\n",
    "    return pd.read_csv(target).rename(columns=lambda x: x.strip())\n",
    "\n",
    "def dataframe_from_csvs(targets):\n",
    "    return pd.concat([dataframe_from_csv(x) for x in targets])"
   ]
  },
  {
   "cell_type": "code",
   "execution_count": 10,
   "metadata": {
    "colab": {
     "base_uri": "https://localhost:8080/",
     "height": 779
    },
    "id": "ZeUbLdx_szKi",
    "outputId": "214e2b5b-7741-4dcf-e1ec-2ce2320af560"
   },
   "outputs": [
    {
     "data": {
      "text/html": [
       "<div>\n",
       "<style scoped>\n",
       "    .dataframe tbody tr th:only-of-type {\n",
       "        vertical-align: middle;\n",
       "    }\n",
       "\n",
       "    .dataframe tbody tr th {\n",
       "        vertical-align: top;\n",
       "    }\n",
       "\n",
       "    .dataframe thead th {\n",
       "        text-align: right;\n",
       "    }\n",
       "</style>\n",
       "<table border=\"1\" class=\"dataframe\">\n",
       "  <thead>\n",
       "    <tr style=\"text-align: right;\">\n",
       "      <th></th>\n",
       "      <th>timestamp</th>\n",
       "      <th>C01</th>\n",
       "      <th>C02</th>\n",
       "      <th>C03</th>\n",
       "      <th>C04</th>\n",
       "      <th>C05</th>\n",
       "      <th>C06</th>\n",
       "      <th>C07</th>\n",
       "      <th>C08</th>\n",
       "      <th>C09</th>\n",
       "      <th>...</th>\n",
       "      <th>C77</th>\n",
       "      <th>C78</th>\n",
       "      <th>C79</th>\n",
       "      <th>C80</th>\n",
       "      <th>C81</th>\n",
       "      <th>C82</th>\n",
       "      <th>C83</th>\n",
       "      <th>C84</th>\n",
       "      <th>C85</th>\n",
       "      <th>C86</th>\n",
       "    </tr>\n",
       "  </thead>\n",
       "  <tbody>\n",
       "    <tr>\n",
       "      <th>0</th>\n",
       "      <td>2021-07-11 10:00:00</td>\n",
       "      <td>-2.2642</td>\n",
       "      <td>0</td>\n",
       "      <td>12.26196</td>\n",
       "      <td>-0.00087</td>\n",
       "      <td>12.01019</td>\n",
       "      <td>0.2254</td>\n",
       "      <td>12.66931</td>\n",
       "      <td>70</td>\n",
       "      <td>1</td>\n",
       "      <td>...</td>\n",
       "      <td>0.92255</td>\n",
       "      <td>30.08042</td>\n",
       "      <td>7.08818</td>\n",
       "      <td>595.06104</td>\n",
       "      <td>276.40338</td>\n",
       "      <td>1</td>\n",
       "      <td>1014.79321</td>\n",
       "      <td>12.0</td>\n",
       "      <td>50</td>\n",
       "      <td>3506</td>\n",
       "    </tr>\n",
       "    <tr>\n",
       "      <th>1</th>\n",
       "      <td>2021-07-11 10:00:01</td>\n",
       "      <td>-2.4923</td>\n",
       "      <td>0</td>\n",
       "      <td>12.26196</td>\n",
       "      <td>0.00058</td>\n",
       "      <td>12.56714</td>\n",
       "      <td>-0.0711</td>\n",
       "      <td>12.66931</td>\n",
       "      <td>70</td>\n",
       "      <td>1</td>\n",
       "      <td>...</td>\n",
       "      <td>0.92255</td>\n",
       "      <td>30.08423</td>\n",
       "      <td>7.08818</td>\n",
       "      <td>531.50317</td>\n",
       "      <td>276.18634</td>\n",
       "      <td>1</td>\n",
       "      <td>1014.79321</td>\n",
       "      <td>12.0</td>\n",
       "      <td>50</td>\n",
       "      <td>3493</td>\n",
       "    </tr>\n",
       "    <tr>\n",
       "      <th>2</th>\n",
       "      <td>2021-07-11 10:00:02</td>\n",
       "      <td>-2.8460</td>\n",
       "      <td>0</td>\n",
       "      <td>12.26196</td>\n",
       "      <td>-0.00072</td>\n",
       "      <td>14.48975</td>\n",
       "      <td>0.0051</td>\n",
       "      <td>12.66931</td>\n",
       "      <td>70</td>\n",
       "      <td>1</td>\n",
       "      <td>...</td>\n",
       "      <td>0.91873</td>\n",
       "      <td>30.09148</td>\n",
       "      <td>7.08818</td>\n",
       "      <td>451.06253</td>\n",
       "      <td>279.85754</td>\n",
       "      <td>1</td>\n",
       "      <td>1014.79321</td>\n",
       "      <td>12.0</td>\n",
       "      <td>50</td>\n",
       "      <td>3490</td>\n",
       "    </tr>\n",
       "    <tr>\n",
       "      <th>3</th>\n",
       "      <td>2021-07-11 10:00:03</td>\n",
       "      <td>-2.1235</td>\n",
       "      <td>0</td>\n",
       "      <td>12.26196</td>\n",
       "      <td>0.00101</td>\n",
       "      <td>15.93170</td>\n",
       "      <td>0.1842</td>\n",
       "      <td>12.66931</td>\n",
       "      <td>70</td>\n",
       "      <td>1</td>\n",
       "      <td>...</td>\n",
       "      <td>0.91644</td>\n",
       "      <td>30.10407</td>\n",
       "      <td>7.08818</td>\n",
       "      <td>404.38739</td>\n",
       "      <td>281.50317</td>\n",
       "      <td>1</td>\n",
       "      <td>1014.79321</td>\n",
       "      <td>12.0</td>\n",
       "      <td>50</td>\n",
       "      <td>3525</td>\n",
       "    </tr>\n",
       "    <tr>\n",
       "      <th>4</th>\n",
       "      <td>2021-07-11 10:00:04</td>\n",
       "      <td>-2.9074</td>\n",
       "      <td>0</td>\n",
       "      <td>12.26196</td>\n",
       "      <td>0.00043</td>\n",
       "      <td>16.10718</td>\n",
       "      <td>0.1842</td>\n",
       "      <td>12.66931</td>\n",
       "      <td>70</td>\n",
       "      <td>1</td>\n",
       "      <td>...</td>\n",
       "      <td>0.91797</td>\n",
       "      <td>30.10331</td>\n",
       "      <td>7.08818</td>\n",
       "      <td>382.53925</td>\n",
       "      <td>281.34039</td>\n",
       "      <td>1</td>\n",
       "      <td>1014.79321</td>\n",
       "      <td>12.0</td>\n",
       "      <td>50</td>\n",
       "      <td>3503</td>\n",
       "    </tr>\n",
       "    <tr>\n",
       "      <th>...</th>\n",
       "      <td>...</td>\n",
       "      <td>...</td>\n",
       "      <td>...</td>\n",
       "      <td>...</td>\n",
       "      <td>...</td>\n",
       "      <td>...</td>\n",
       "      <td>...</td>\n",
       "      <td>...</td>\n",
       "      <td>...</td>\n",
       "      <td>...</td>\n",
       "      <td>...</td>\n",
       "      <td>...</td>\n",
       "      <td>...</td>\n",
       "      <td>...</td>\n",
       "      <td>...</td>\n",
       "      <td>...</td>\n",
       "      <td>...</td>\n",
       "      <td>...</td>\n",
       "      <td>...</td>\n",
       "      <td>...</td>\n",
       "      <td>...</td>\n",
       "    </tr>\n",
       "    <tr>\n",
       "      <th>259195</th>\n",
       "      <td>2021-08-09 08:59:56</td>\n",
       "      <td>-2.0065</td>\n",
       "      <td>0</td>\n",
       "      <td>12.26196</td>\n",
       "      <td>0.00051</td>\n",
       "      <td>100.28228</td>\n",
       "      <td>0.5977</td>\n",
       "      <td>12.53358</td>\n",
       "      <td>70</td>\n",
       "      <td>1</td>\n",
       "      <td>...</td>\n",
       "      <td>1.17355</td>\n",
       "      <td>35.05434</td>\n",
       "      <td>10.00000</td>\n",
       "      <td>3178.48877</td>\n",
       "      <td>370.02679</td>\n",
       "      <td>1</td>\n",
       "      <td>986.05908</td>\n",
       "      <td>12.0</td>\n",
       "      <td>50</td>\n",
       "      <td>136</td>\n",
       "    </tr>\n",
       "    <tr>\n",
       "      <th>259196</th>\n",
       "      <td>2021-08-09 08:59:57</td>\n",
       "      <td>-2.2101</td>\n",
       "      <td>0</td>\n",
       "      <td>12.26196</td>\n",
       "      <td>-0.00029</td>\n",
       "      <td>100.28228</td>\n",
       "      <td>0.5509</td>\n",
       "      <td>12.53358</td>\n",
       "      <td>70</td>\n",
       "      <td>1</td>\n",
       "      <td>...</td>\n",
       "      <td>1.16898</td>\n",
       "      <td>35.03488</td>\n",
       "      <td>10.00000</td>\n",
       "      <td>3175.36084</td>\n",
       "      <td>370.40656</td>\n",
       "      <td>1</td>\n",
       "      <td>986.05908</td>\n",
       "      <td>12.0</td>\n",
       "      <td>50</td>\n",
       "      <td>89</td>\n",
       "    </tr>\n",
       "    <tr>\n",
       "      <th>259197</th>\n",
       "      <td>2021-08-09 08:59:58</td>\n",
       "      <td>-2.3325</td>\n",
       "      <td>0</td>\n",
       "      <td>12.26196</td>\n",
       "      <td>0.00152</td>\n",
       "      <td>100.28228</td>\n",
       "      <td>0.5425</td>\n",
       "      <td>12.53358</td>\n",
       "      <td>70</td>\n",
       "      <td>1</td>\n",
       "      <td>...</td>\n",
       "      <td>1.16974</td>\n",
       "      <td>35.02840</td>\n",
       "      <td>10.00000</td>\n",
       "      <td>3175.73608</td>\n",
       "      <td>368.12787</td>\n",
       "      <td>1</td>\n",
       "      <td>986.05908</td>\n",
       "      <td>12.0</td>\n",
       "      <td>50</td>\n",
       "      <td>90</td>\n",
       "    </tr>\n",
       "    <tr>\n",
       "      <th>259198</th>\n",
       "      <td>2021-08-09 08:59:59</td>\n",
       "      <td>-2.3049</td>\n",
       "      <td>0</td>\n",
       "      <td>12.26196</td>\n",
       "      <td>0.00058</td>\n",
       "      <td>100.26703</td>\n",
       "      <td>0.6266</td>\n",
       "      <td>12.53358</td>\n",
       "      <td>70</td>\n",
       "      <td>1</td>\n",
       "      <td>...</td>\n",
       "      <td>1.16974</td>\n",
       "      <td>35.02420</td>\n",
       "      <td>10.00000</td>\n",
       "      <td>3176.61182</td>\n",
       "      <td>368.01941</td>\n",
       "      <td>1</td>\n",
       "      <td>986.05908</td>\n",
       "      <td>12.0</td>\n",
       "      <td>50</td>\n",
       "      <td>74</td>\n",
       "    </tr>\n",
       "    <tr>\n",
       "      <th>259199</th>\n",
       "      <td>2021-08-09 09:00:00</td>\n",
       "      <td>-2.2011</td>\n",
       "      <td>0</td>\n",
       "      <td>12.26196</td>\n",
       "      <td>-0.00014</td>\n",
       "      <td>100.27466</td>\n",
       "      <td>0.7209</td>\n",
       "      <td>12.53358</td>\n",
       "      <td>70</td>\n",
       "      <td>1</td>\n",
       "      <td>...</td>\n",
       "      <td>1.17508</td>\n",
       "      <td>35.01695</td>\n",
       "      <td>10.00000</td>\n",
       "      <td>3172.23267</td>\n",
       "      <td>367.78424</td>\n",
       "      <td>1</td>\n",
       "      <td>986.05908</td>\n",
       "      <td>12.0</td>\n",
       "      <td>50</td>\n",
       "      <td>101</td>\n",
       "    </tr>\n",
       "  </tbody>\n",
       "</table>\n",
       "<p>1004402 rows × 87 columns</p>\n",
       "</div>"
      ],
      "text/plain": [
       "                  timestamp     C01  C02       C03      C04        C05  \\\n",
       "0       2021-07-11 10:00:00 -2.2642    0  12.26196 -0.00087   12.01019   \n",
       "1       2021-07-11 10:00:01 -2.4923    0  12.26196  0.00058   12.56714   \n",
       "2       2021-07-11 10:00:02 -2.8460    0  12.26196 -0.00072   14.48975   \n",
       "3       2021-07-11 10:00:03 -2.1235    0  12.26196  0.00101   15.93170   \n",
       "4       2021-07-11 10:00:04 -2.9074    0  12.26196  0.00043   16.10718   \n",
       "...                     ...     ...  ...       ...      ...        ...   \n",
       "259195  2021-08-09 08:59:56 -2.0065    0  12.26196  0.00051  100.28228   \n",
       "259196  2021-08-09 08:59:57 -2.2101    0  12.26196 -0.00029  100.28228   \n",
       "259197  2021-08-09 08:59:58 -2.3325    0  12.26196  0.00152  100.28228   \n",
       "259198  2021-08-09 08:59:59 -2.3049    0  12.26196  0.00058  100.26703   \n",
       "259199  2021-08-09 09:00:00 -2.2011    0  12.26196 -0.00014  100.27466   \n",
       "\n",
       "           C06       C07  C08  C09  ...      C77       C78       C79  \\\n",
       "0       0.2254  12.66931   70    1  ...  0.92255  30.08042   7.08818   \n",
       "1      -0.0711  12.66931   70    1  ...  0.92255  30.08423   7.08818   \n",
       "2       0.0051  12.66931   70    1  ...  0.91873  30.09148   7.08818   \n",
       "3       0.1842  12.66931   70    1  ...  0.91644  30.10407   7.08818   \n",
       "4       0.1842  12.66931   70    1  ...  0.91797  30.10331   7.08818   \n",
       "...        ...       ...  ...  ...  ...      ...       ...       ...   \n",
       "259195  0.5977  12.53358   70    1  ...  1.17355  35.05434  10.00000   \n",
       "259196  0.5509  12.53358   70    1  ...  1.16898  35.03488  10.00000   \n",
       "259197  0.5425  12.53358   70    1  ...  1.16974  35.02840  10.00000   \n",
       "259198  0.6266  12.53358   70    1  ...  1.16974  35.02420  10.00000   \n",
       "259199  0.7209  12.53358   70    1  ...  1.17508  35.01695  10.00000   \n",
       "\n",
       "               C80        C81  C82         C83   C84  C85   C86  \n",
       "0        595.06104  276.40338    1  1014.79321  12.0   50  3506  \n",
       "1        531.50317  276.18634    1  1014.79321  12.0   50  3493  \n",
       "2        451.06253  279.85754    1  1014.79321  12.0   50  3490  \n",
       "3        404.38739  281.50317    1  1014.79321  12.0   50  3525  \n",
       "4        382.53925  281.34039    1  1014.79321  12.0   50  3503  \n",
       "...            ...        ...  ...         ...   ...  ...   ...  \n",
       "259195  3178.48877  370.02679    1   986.05908  12.0   50   136  \n",
       "259196  3175.36084  370.40656    1   986.05908  12.0   50    89  \n",
       "259197  3175.73608  368.12787    1   986.05908  12.0   50    90  \n",
       "259198  3176.61182  368.01941    1   986.05908  12.0   50    74  \n",
       "259199  3172.23267  367.78424    1   986.05908  12.0   50   101  \n",
       "\n",
       "[1004402 rows x 87 columns]"
      ]
     },
     "execution_count": 10,
     "metadata": {},
     "output_type": "execute_result"
    }
   ],
   "source": [
    "TRAIN_DF_RAW = dataframe_from_csvs(TRAIN_DATASET)\n",
    "TRAIN_DF_RAW"
   ]
  },
  {
   "cell_type": "code",
   "execution_count": 11,
   "metadata": {
    "colab": {
     "base_uri": "https://localhost:8080/"
    },
    "id": "Eh1FqeKaszKj",
    "outputId": "bff00374-7293-47ea-a0f3-231f917b11cf"
   },
   "outputs": [
    {
     "data": {
      "text/plain": [
       "Index(['C01', 'C02', 'C03', 'C04', 'C05', 'C06', 'C07', 'C08', 'C09', 'C10',\n",
       "       'C11', 'C12', 'C13', 'C14', 'C15', 'C16', 'C17', 'C18', 'C19', 'C20',\n",
       "       'C21', 'C22', 'C23', 'C24', 'C25', 'C26', 'C27', 'C28', 'C29', 'C30',\n",
       "       'C31', 'C32', 'C33', 'C34', 'C35', 'C36', 'C37', 'C38', 'C39', 'C40',\n",
       "       'C41', 'C42', 'C43', 'C44', 'C45', 'C46', 'C47', 'C48', 'C49', 'C50',\n",
       "       'C51', 'C52', 'C53', 'C54', 'C55', 'C56', 'C57', 'C58', 'C59', 'C60',\n",
       "       'C61', 'C62', 'C63', 'C64', 'C65', 'C66', 'C67', 'C68', 'C69', 'C70',\n",
       "       'C71', 'C72', 'C73', 'C74', 'C75', 'C76', 'C77', 'C78', 'C79', 'C80',\n",
       "       'C81', 'C82', 'C83', 'C84', 'C85', 'C86'],\n",
       "      dtype='object')"
      ]
     },
     "execution_count": 11,
     "metadata": {},
     "output_type": "execute_result"
    }
   ],
   "source": [
    "TIMESTAMP_FIELD = \"timestamp\"\n",
    "IDSTAMP_FIELD = 'id'\n",
    "ATTACK_FIELD = \"attack\"\n",
    "VALID_COLUMNS_IN_TRAIN_DATASET = TRAIN_DF_RAW.columns.drop([TIMESTAMP_FIELD])\n",
    "VALID_COLUMNS_IN_TRAIN_DATASET"
   ]
  },
  {
   "cell_type": "code",
   "execution_count": 12,
   "metadata": {
    "id": "79P6JhvHXJsj"
   },
   "outputs": [],
   "source": [
    "# 사용할 index를 지정합니다.\n",
    "LEAV_IDX = [11,15,22,23,26,27,29,30,31,39,42,52,55,58,61,64,67,69,72,74,75,76,80,82]"
   ]
  },
  {
   "cell_type": "code",
   "execution_count": 13,
   "metadata": {
    "id": "iNmKtuitszKk"
   },
   "outputs": [],
   "source": [
    "TAG_MIN = TRAIN_DF_RAW[VALID_COLUMNS_IN_TRAIN_DATASET].min()\n",
    "TAG_MAX = TRAIN_DF_RAW[VALID_COLUMNS_IN_TRAIN_DATASET].max()"
   ]
  },
  {
   "cell_type": "code",
   "execution_count": 14,
   "metadata": {
    "id": "6fIQfkRPszKl"
   },
   "outputs": [],
   "source": [
    "def normalize(df):\n",
    "    ndf = df.copy()\n",
    "    for c in df.columns:\n",
    "        if TAG_MIN[c] == TAG_MAX[c]:\n",
    "            ndf[c] = df[c] - TAG_MIN[c]\n",
    "        else:\n",
    "            ndf[c] = (df[c] - TAG_MIN[c]) / (TAG_MAX[c] - TAG_MIN[c])\n",
    "    return ndf"
   ]
  },
  {
   "cell_type": "code",
   "execution_count": 15,
   "metadata": {
    "colab": {
     "base_uri": "https://localhost:8080/",
     "height": 439
    },
    "id": "CVWLdAzWszKm",
    "outputId": "6604034a-479c-45a0-8ff9-c92d94ff0d8a"
   },
   "outputs": [
    {
     "data": {
      "text/html": [
       "<div>\n",
       "<style scoped>\n",
       "    .dataframe tbody tr th:only-of-type {\n",
       "        vertical-align: middle;\n",
       "    }\n",
       "\n",
       "    .dataframe tbody tr th {\n",
       "        vertical-align: top;\n",
       "    }\n",
       "\n",
       "    .dataframe thead th {\n",
       "        text-align: right;\n",
       "    }\n",
       "</style>\n",
       "<table border=\"1\" class=\"dataframe\">\n",
       "  <thead>\n",
       "    <tr style=\"text-align: right;\">\n",
       "      <th></th>\n",
       "      <th>C01</th>\n",
       "      <th>C02</th>\n",
       "      <th>C03</th>\n",
       "      <th>C04</th>\n",
       "      <th>C05</th>\n",
       "      <th>C06</th>\n",
       "      <th>C07</th>\n",
       "      <th>C08</th>\n",
       "      <th>C09</th>\n",
       "      <th>C10</th>\n",
       "      <th>...</th>\n",
       "      <th>C77</th>\n",
       "      <th>C78</th>\n",
       "      <th>C79</th>\n",
       "      <th>C80</th>\n",
       "      <th>C81</th>\n",
       "      <th>C82</th>\n",
       "      <th>C83</th>\n",
       "      <th>C84</th>\n",
       "      <th>C85</th>\n",
       "      <th>C86</th>\n",
       "    </tr>\n",
       "  </thead>\n",
       "  <tbody>\n",
       "    <tr>\n",
       "      <th>0</th>\n",
       "      <td>0.433107</td>\n",
       "      <td>0.0</td>\n",
       "      <td>0.056338</td>\n",
       "      <td>0.501686</td>\n",
       "      <td>0.116706</td>\n",
       "      <td>0.447955</td>\n",
       "      <td>0.816071</td>\n",
       "      <td>0.0</td>\n",
       "      <td>0.0</td>\n",
       "      <td>0.0</td>\n",
       "      <td>...</td>\n",
       "      <td>0.240561</td>\n",
       "      <td>0.194185</td>\n",
       "      <td>0.708818</td>\n",
       "      <td>0.183693</td>\n",
       "      <td>0.169066</td>\n",
       "      <td>0.0</td>\n",
       "      <td>0.538147</td>\n",
       "      <td>0.0</td>\n",
       "      <td>0.0</td>\n",
       "      <td>0.276078</td>\n",
       "    </tr>\n",
       "    <tr>\n",
       "      <th>1</th>\n",
       "      <td>0.395098</td>\n",
       "      <td>0.0</td>\n",
       "      <td>0.056338</td>\n",
       "      <td>0.517560</td>\n",
       "      <td>0.121738</td>\n",
       "      <td>0.397053</td>\n",
       "      <td>0.816071</td>\n",
       "      <td>0.0</td>\n",
       "      <td>0.0</td>\n",
       "      <td>0.0</td>\n",
       "      <td>...</td>\n",
       "      <td>0.240561</td>\n",
       "      <td>0.194535</td>\n",
       "      <td>0.708818</td>\n",
       "      <td>0.165517</td>\n",
       "      <td>0.168332</td>\n",
       "      <td>0.0</td>\n",
       "      <td>0.538147</td>\n",
       "      <td>0.0</td>\n",
       "      <td>0.0</td>\n",
       "      <td>0.275176</td>\n",
       "    </tr>\n",
       "    <tr>\n",
       "      <th>2</th>\n",
       "      <td>0.333267</td>\n",
       "      <td>0.0</td>\n",
       "      <td>0.056338</td>\n",
       "      <td>0.504886</td>\n",
       "      <td>0.139408</td>\n",
       "      <td>0.405431</td>\n",
       "      <td>0.816071</td>\n",
       "      <td>0.0</td>\n",
       "      <td>0.0</td>\n",
       "      <td>0.0</td>\n",
       "      <td>...</td>\n",
       "      <td>0.238319</td>\n",
       "      <td>0.195226</td>\n",
       "      <td>0.708818</td>\n",
       "      <td>0.141083</td>\n",
       "      <td>0.180570</td>\n",
       "      <td>0.0</td>\n",
       "      <td>0.538147</td>\n",
       "      <td>0.0</td>\n",
       "      <td>0.0</td>\n",
       "      <td>0.274889</td>\n",
       "    </tr>\n",
       "    <tr>\n",
       "      <th>3</th>\n",
       "      <td>0.446345</td>\n",
       "      <td>0.0</td>\n",
       "      <td>0.056338</td>\n",
       "      <td>0.522383</td>\n",
       "      <td>0.154058</td>\n",
       "      <td>0.436703</td>\n",
       "      <td>0.816071</td>\n",
       "      <td>0.0</td>\n",
       "      <td>0.0</td>\n",
       "      <td>0.0</td>\n",
       "      <td>...</td>\n",
       "      <td>0.236754</td>\n",
       "      <td>0.196440</td>\n",
       "      <td>0.708818</td>\n",
       "      <td>0.125447</td>\n",
       "      <td>0.187292</td>\n",
       "      <td>0.0</td>\n",
       "      <td>0.538147</td>\n",
       "      <td>0.0</td>\n",
       "      <td>0.0</td>\n",
       "      <td>0.277264</td>\n",
       "    </tr>\n",
       "    <tr>\n",
       "      <th>4</th>\n",
       "      <td>0.328324</td>\n",
       "      <td>0.0</td>\n",
       "      <td>0.056338</td>\n",
       "      <td>0.517845</td>\n",
       "      <td>0.157091</td>\n",
       "      <td>0.439827</td>\n",
       "      <td>0.816071</td>\n",
       "      <td>0.0</td>\n",
       "      <td>0.0</td>\n",
       "      <td>0.0</td>\n",
       "      <td>...</td>\n",
       "      <td>0.237495</td>\n",
       "      <td>0.196492</td>\n",
       "      <td>0.708818</td>\n",
       "      <td>0.117700</td>\n",
       "      <td>0.187419</td>\n",
       "      <td>0.0</td>\n",
       "      <td>0.538147</td>\n",
       "      <td>0.0</td>\n",
       "      <td>0.0</td>\n",
       "      <td>0.275990</td>\n",
       "    </tr>\n",
       "    <tr>\n",
       "      <th>...</th>\n",
       "      <td>...</td>\n",
       "      <td>...</td>\n",
       "      <td>...</td>\n",
       "      <td>...</td>\n",
       "      <td>...</td>\n",
       "      <td>...</td>\n",
       "      <td>...</td>\n",
       "      <td>...</td>\n",
       "      <td>...</td>\n",
       "      <td>...</td>\n",
       "      <td>...</td>\n",
       "      <td>...</td>\n",
       "      <td>...</td>\n",
       "      <td>...</td>\n",
       "      <td>...</td>\n",
       "      <td>...</td>\n",
       "      <td>...</td>\n",
       "      <td>...</td>\n",
       "      <td>...</td>\n",
       "      <td>...</td>\n",
       "      <td>...</td>\n",
       "    </tr>\n",
       "    <tr>\n",
       "      <th>259195</th>\n",
       "      <td>0.485034</td>\n",
       "      <td>0.0</td>\n",
       "      <td>0.056340</td>\n",
       "      <td>0.515751</td>\n",
       "      <td>0.994085</td>\n",
       "      <td>0.520004</td>\n",
       "      <td>0.640361</td>\n",
       "      <td>0.0</td>\n",
       "      <td>0.0</td>\n",
       "      <td>0.0</td>\n",
       "      <td>...</td>\n",
       "      <td>0.403941</td>\n",
       "      <td>0.696846</td>\n",
       "      <td>1.000000</td>\n",
       "      <td>0.996289</td>\n",
       "      <td>0.517805</td>\n",
       "      <td>0.0</td>\n",
       "      <td>0.414192</td>\n",
       "      <td>0.0</td>\n",
       "      <td>0.0</td>\n",
       "      <td>0.018717</td>\n",
       "    </tr>\n",
       "    <tr>\n",
       "      <th>259196</th>\n",
       "      <td>0.447224</td>\n",
       "      <td>0.0</td>\n",
       "      <td>0.056338</td>\n",
       "      <td>0.509379</td>\n",
       "      <td>0.994085</td>\n",
       "      <td>0.510481</td>\n",
       "      <td>0.640361</td>\n",
       "      <td>0.0</td>\n",
       "      <td>0.0</td>\n",
       "      <td>0.0</td>\n",
       "      <td>...</td>\n",
       "      <td>0.401381</td>\n",
       "      <td>0.695028</td>\n",
       "      <td>1.000000</td>\n",
       "      <td>0.995484</td>\n",
       "      <td>0.518674</td>\n",
       "      <td>0.0</td>\n",
       "      <td>0.414192</td>\n",
       "      <td>0.0</td>\n",
       "      <td>0.0</td>\n",
       "      <td>0.015676</td>\n",
       "    </tr>\n",
       "    <tr>\n",
       "      <th>259197</th>\n",
       "      <td>0.423251</td>\n",
       "      <td>0.0</td>\n",
       "      <td>0.056338</td>\n",
       "      <td>0.528358</td>\n",
       "      <td>0.994085</td>\n",
       "      <td>0.508101</td>\n",
       "      <td>0.640361</td>\n",
       "      <td>0.0</td>\n",
       "      <td>0.0</td>\n",
       "      <td>0.0</td>\n",
       "      <td>...</td>\n",
       "      <td>0.401571</td>\n",
       "      <td>0.694256</td>\n",
       "      <td>1.000000</td>\n",
       "      <td>0.995510</td>\n",
       "      <td>0.511131</td>\n",
       "      <td>0.0</td>\n",
       "      <td>0.414192</td>\n",
       "      <td>0.0</td>\n",
       "      <td>0.0</td>\n",
       "      <td>0.015440</td>\n",
       "    </tr>\n",
       "    <tr>\n",
       "      <th>259198</th>\n",
       "      <td>0.425407</td>\n",
       "      <td>0.0</td>\n",
       "      <td>0.056338</td>\n",
       "      <td>0.520068</td>\n",
       "      <td>0.993949</td>\n",
       "      <td>0.522157</td>\n",
       "      <td>0.640361</td>\n",
       "      <td>0.0</td>\n",
       "      <td>0.0</td>\n",
       "      <td>0.0</td>\n",
       "      <td>...</td>\n",
       "      <td>0.401590</td>\n",
       "      <td>0.693797</td>\n",
       "      <td>1.000000</td>\n",
       "      <td>0.995761</td>\n",
       "      <td>0.510014</td>\n",
       "      <td>0.0</td>\n",
       "      <td>0.414192</td>\n",
       "      <td>0.0</td>\n",
       "      <td>0.0</td>\n",
       "      <td>0.014318</td>\n",
       "    </tr>\n",
       "    <tr>\n",
       "      <th>259199</th>\n",
       "      <td>0.442746</td>\n",
       "      <td>0.0</td>\n",
       "      <td>0.056338</td>\n",
       "      <td>0.511436</td>\n",
       "      <td>0.994003</td>\n",
       "      <td>0.539590</td>\n",
       "      <td>0.640361</td>\n",
       "      <td>0.0</td>\n",
       "      <td>0.0</td>\n",
       "      <td>0.0</td>\n",
       "      <td>...</td>\n",
       "      <td>0.404723</td>\n",
       "      <td>0.693092</td>\n",
       "      <td>1.000000</td>\n",
       "      <td>0.994546</td>\n",
       "      <td>0.509115</td>\n",
       "      <td>0.0</td>\n",
       "      <td>0.414192</td>\n",
       "      <td>0.0</td>\n",
       "      <td>0.0</td>\n",
       "      <td>0.016060</td>\n",
       "    </tr>\n",
       "  </tbody>\n",
       "</table>\n",
       "<p>1004402 rows × 86 columns</p>\n",
       "</div>"
      ],
      "text/plain": [
       "             C01  C02       C03       C04       C05       C06       C07  C08  \\\n",
       "0       0.433107  0.0  0.056338  0.501686  0.116706  0.447955  0.816071  0.0   \n",
       "1       0.395098  0.0  0.056338  0.517560  0.121738  0.397053  0.816071  0.0   \n",
       "2       0.333267  0.0  0.056338  0.504886  0.139408  0.405431  0.816071  0.0   \n",
       "3       0.446345  0.0  0.056338  0.522383  0.154058  0.436703  0.816071  0.0   \n",
       "4       0.328324  0.0  0.056338  0.517845  0.157091  0.439827  0.816071  0.0   \n",
       "...          ...  ...       ...       ...       ...       ...       ...  ...   \n",
       "259195  0.485034  0.0  0.056340  0.515751  0.994085  0.520004  0.640361  0.0   \n",
       "259196  0.447224  0.0  0.056338  0.509379  0.994085  0.510481  0.640361  0.0   \n",
       "259197  0.423251  0.0  0.056338  0.528358  0.994085  0.508101  0.640361  0.0   \n",
       "259198  0.425407  0.0  0.056338  0.520068  0.993949  0.522157  0.640361  0.0   \n",
       "259199  0.442746  0.0  0.056338  0.511436  0.994003  0.539590  0.640361  0.0   \n",
       "\n",
       "        C09  C10  ...       C77       C78       C79       C80       C81  C82  \\\n",
       "0       0.0  0.0  ...  0.240561  0.194185  0.708818  0.183693  0.169066  0.0   \n",
       "1       0.0  0.0  ...  0.240561  0.194535  0.708818  0.165517  0.168332  0.0   \n",
       "2       0.0  0.0  ...  0.238319  0.195226  0.708818  0.141083  0.180570  0.0   \n",
       "3       0.0  0.0  ...  0.236754  0.196440  0.708818  0.125447  0.187292  0.0   \n",
       "4       0.0  0.0  ...  0.237495  0.196492  0.708818  0.117700  0.187419  0.0   \n",
       "...     ...  ...  ...       ...       ...       ...       ...       ...  ...   \n",
       "259195  0.0  0.0  ...  0.403941  0.696846  1.000000  0.996289  0.517805  0.0   \n",
       "259196  0.0  0.0  ...  0.401381  0.695028  1.000000  0.995484  0.518674  0.0   \n",
       "259197  0.0  0.0  ...  0.401571  0.694256  1.000000  0.995510  0.511131  0.0   \n",
       "259198  0.0  0.0  ...  0.401590  0.693797  1.000000  0.995761  0.510014  0.0   \n",
       "259199  0.0  0.0  ...  0.404723  0.693092  1.000000  0.994546  0.509115  0.0   \n",
       "\n",
       "             C83  C84  C85       C86  \n",
       "0       0.538147  0.0  0.0  0.276078  \n",
       "1       0.538147  0.0  0.0  0.275176  \n",
       "2       0.538147  0.0  0.0  0.274889  \n",
       "3       0.538147  0.0  0.0  0.277264  \n",
       "4       0.538147  0.0  0.0  0.275990  \n",
       "...          ...  ...  ...       ...  \n",
       "259195  0.414192  0.0  0.0  0.018717  \n",
       "259196  0.414192  0.0  0.0  0.015676  \n",
       "259197  0.414192  0.0  0.0  0.015440  \n",
       "259198  0.414192  0.0  0.0  0.014318  \n",
       "259199  0.414192  0.0  0.0  0.016060  \n",
       "\n",
       "[1004402 rows x 86 columns]"
      ]
     },
     "execution_count": 15,
     "metadata": {},
     "output_type": "execute_result"
    }
   ],
   "source": [
    "TRAIN_DF = normalize(TRAIN_DF_RAW[VALID_COLUMNS_IN_TRAIN_DATASET]).ewm(alpha=0.9).mean()\n",
    "TRAIN_DF"
   ]
  },
  {
   "cell_type": "code",
   "execution_count": 16,
   "metadata": {
    "id": "2bmHgacSszKn"
   },
   "outputs": [],
   "source": [
    "def boundary_check(df):\n",
    "    x = np.array(df, dtype=np.float32)\n",
    "    return np.any(x > 1.0), np.any(x < 0), np.any(np.isnan(x))"
   ]
  },
  {
   "cell_type": "code",
   "execution_count": 17,
   "metadata": {
    "colab": {
     "base_uri": "https://localhost:8080/"
    },
    "id": "PQ1vzMJDszKn",
    "outputId": "9659703b-3eb0-4859-953c-ed5bb121ffa2"
   },
   "outputs": [
    {
     "data": {
      "text/plain": [
       "(False, False, False)"
      ]
     },
     "execution_count": 17,
     "metadata": {},
     "output_type": "execute_result"
    }
   ],
   "source": [
    "boundary_check(TRAIN_DF)"
   ]
  },
  {
   "cell_type": "markdown",
   "metadata": {},
   "source": [
    "window size는 이전 대회에서 많이 사용한 39를 사용했습니다."
   ]
  },
  {
   "cell_type": "code",
   "execution_count": 18,
   "metadata": {
    "id": "DHa299JuszKp"
   },
   "outputs": [],
   "source": [
    "WINDOW_GIVEN = 39\n",
    "WINDOW_SIZE = 40\n",
    "\n",
    "\n",
    "class HaiDataset(Dataset):\n",
    "    def __init__(self, timestamps, df, stride=1, attacks=None):\n",
    "        self.ts = np.array(timestamps)\n",
    "        self.tag_values = np.array(df, dtype=np.float32)\n",
    "        self.valid_idxs = []\n",
    "        for L in trange(len(self.ts) - WINDOW_SIZE + 1):\n",
    "            R = L + WINDOW_SIZE - 1\n",
    "            if dateutil.parser.parse(self.ts[R]) - dateutil.parser.parse(\n",
    "                self.ts[L]\n",
    "            ) == timedelta(seconds=WINDOW_SIZE - 1):\n",
    "                self.valid_idxs.append(L)\n",
    "        self.valid_idxs = np.array(self.valid_idxs, dtype=np.int32)[::stride]\n",
    "        self.n_idxs = len(self.valid_idxs)\n",
    "        print(f\"# of valid windows: {self.n_idxs}\")\n",
    "        if attacks is not None:\n",
    "            self.attacks = np.array(attacks, dtype=np.float32)\n",
    "            self.with_attack = True\n",
    "        else:\n",
    "            self.with_attack = False\n",
    "\n",
    "    def __len__(self):\n",
    "        return self.n_idxs\n",
    "\n",
    "    def __getitem__(self, idx):\n",
    "        i = self.valid_idxs[idx]\n",
    "        last = i + WINDOW_SIZE - 1\n",
    "        item = {\"attack\": self.attacks[last]} if self.with_attack else {}\n",
    "        item[\"ts\"] = self.ts[i + WINDOW_SIZE - 1]\n",
    "        item[\"given\"] = torch.from_numpy(self.tag_values[i : i + WINDOW_GIVEN])\n",
    "        item[\"answer\"] = torch.from_numpy(self.tag_values[last])\n",
    "        return item"
   ]
  },
  {
   "cell_type": "code",
   "execution_count": 19,
   "metadata": {
    "colab": {
     "base_uri": "https://localhost:8080/",
     "height": 481,
     "referenced_widgets": [
      "13d22cdf9ca44e96988c3eb3eb4a1b1d",
      "2b5aef74e1fe49c08214e3c04d447d6d",
      "65bc7cc65db34919bb2042d373b4cc70",
      "143495a6658d4b2999df6032b281f5fd",
      "08882ce91bd14dc48271a64c251dfa6e",
      "f81f94deebf949aebebfeb14b9f84eca",
      "241e09561c1542038e248cfd07ff5610",
      "2f13406132844297b576ef6a93653021",
      "6ce83bd5f0e94b699aec15a0f1f38b2c",
      "b3326d8a6106499fa2bbcffff7297cf1",
      "adf2a18b31704b37acaa9e3271e3c6a0",
      "cdf72dc7957e4a9abbb8c9cd6c488598"
     ]
    },
    "id": "jtcKA6c7szKr",
    "outputId": "b81f9737-f7b9-4a58-a275-23b1c7bced9f"
   },
   "outputs": [
    {
     "data": {
      "application/vnd.jupyter.widget-view+json": {
       "model_id": "df6d1f347a9f4456977e2a3b7c37e4d1",
       "version_major": 2,
       "version_minor": 0
      },
      "text/plain": [
       "  0%|          | 0/1004363 [00:00<?, ?it/s]"
      ]
     },
     "metadata": {},
     "output_type": "display_data"
    },
    {
     "name": "stdout",
     "output_type": "stream",
     "text": [
      "# of valid windows: 1004168\n"
     ]
    },
    {
     "data": {
      "text/plain": [
       "{'ts': '2021-07-11 10:00:39',\n",
       " 'given': tensor([[0.4331, 0.0000, 0.0563,  ..., 0.0000, 0.0000, 0.2761],\n",
       "         [0.3951, 0.0000, 0.0563,  ..., 0.0000, 0.0000, 0.2752],\n",
       "         [0.3333, 0.0000, 0.0563,  ..., 0.0000, 0.0000, 0.2749],\n",
       "         ...,\n",
       "         [0.3150, 0.0000, 0.0563,  ..., 0.0000, 0.0000, 0.2600],\n",
       "         [0.4407, 0.0000, 0.0577,  ..., 0.0000, 0.0000, 0.2583],\n",
       "         [0.3572, 0.0000, 0.0551,  ..., 0.0000, 0.0000, 0.2563]]),\n",
       " 'answer': tensor([3.5958e-01, 0.0000e+00, 5.6212e-02, 5.3530e-01, 1.4813e-01, 4.2156e-01,\n",
       "         8.1607e-01, 0.0000e+00, 0.0000e+00, 0.0000e+00, 6.1665e-01, 5.7758e-01,\n",
       "         4.2336e-01, 4.4602e-01, 2.5236e-01, 2.2022e-01, 0.0000e+00, 0.0000e+00,\n",
       "         0.0000e+00, 3.0503e-01, 4.4349e-01, 0.0000e+00, 2.5463e-01, 5.6910e-01,\n",
       "         5.9176e-01, 0.0000e+00, 2.5426e-01, 2.4381e-01, 0.0000e+00, 9.7483e-01,\n",
       "         5.5928e-01, 2.9944e-01, 3.7788e-01, 0.0000e+00, 9.0094e-01, 0.0000e+00,\n",
       "         2.0972e-01, 0.0000e+00, 0.0000e+00, 2.5755e-02, 2.6508e-01, 5.2708e-01,\n",
       "         6.0653e-01, 3.8758e-01, 1.1553e-03, 1.0000e+00, 5.1564e-01, 1.0000e+00,\n",
       "         0.0000e+00, 9.9879e-01, 4.7162e-01, 0.0000e+00, 5.7535e-04, 5.2526e-02,\n",
       "         0.0000e+00, 2.7232e-01, 7.9845e-01, 1.7805e-01, 2.5550e-01, 4.0707e-01,\n",
       "         1.0000e+00, 9.0285e-01, 0.0000e+00, 0.0000e+00, 7.3230e-03, 2.2613e-01,\n",
       "         1.2611e-01, 2.0754e-01, 0.0000e+00, 3.6833e-01, 7.9561e-01, 1.5879e-01,\n",
       "         4.7428e-01, 1.0483e-01, 2.1173e-01, 2.5042e-01, 2.1216e-01, 2.2634e-01,\n",
       "         7.0882e-01, 1.1400e-01, 2.7780e-01, 0.0000e+00, 5.3815e-01, 0.0000e+00,\n",
       "         0.0000e+00, 2.5796e-01])}"
      ]
     },
     "execution_count": 19,
     "metadata": {},
     "output_type": "execute_result"
    }
   ],
   "source": [
    "HAI_DATASET_TRAIN = HaiDataset(TRAIN_DF_RAW[TIMESTAMP_FIELD], TRAIN_DF, stride=1)\n",
    "HAI_DATASET_TRAIN[0]"
   ]
  },
  {
   "cell_type": "markdown",
   "metadata": {},
   "source": [
    "## 모델\n",
    "1. stacked gru : baseline과 같은 stacked gru를 사용했지만 성능이 좋지 않아서 사용하지 않았습니다.\n",
    "2. transformer의 encoder + skip connection : stacked gru보다 성능이 좋지 못해서 사용하지 않았습니다.\n",
    "3. stacked lstm + attention + mixup: baseline코드에 feature별 가중치를 attention을 통해서 부여하였습니다. 성능이 앞선 두 모델에 비해 좋아서 사용하게 되었습니다."
   ]
  },
  {
   "cell_type": "code",
   "execution_count": 20,
   "metadata": {
    "id": "EAs9I6W9_UoI"
   },
   "outputs": [],
   "source": [
    "N_HIDDENS = 200\n",
    "N_LAYERS = 3\n",
    "BATCH_SIZE = 2024\n",
    "epoch = 130\n",
    "\n",
    "class StackedLSTM(torch.nn.Module):\n",
    "    def __init__(self):\n",
    "        super().__init__()\n",
    "        self.rnn = torch.nn.LSTM(\n",
    "            input_size=24,\n",
    "            hidden_size=N_HIDDENS,\n",
    "            num_layers=N_LAYERS,\n",
    "            bidirectional=True,\n",
    "            dropout=0.1\n",
    "        )\n",
    "        self.fc = torch.nn.Linear(N_HIDDENS * 2,24)\n",
    "        self.relu = torch.nn.LeakyReLU(0.1)\n",
    "        \n",
    "        # mix up을 적용하기 위해서 learnable parameter인 w를 설정합니다.\n",
    "        w = torch.nn.Parameter(torch.FloatTensor([-0.01]), requires_grad=True)\n",
    "        w = torch.nn.Parameter(w, requires_grad=True)\n",
    "        self.w = w\n",
    "        \n",
    "        self.sigmoid = torch.nn.Sigmoid()\n",
    "        \n",
    "        # feature attention을 위한 dense layer를 설정합니다.\n",
    "        self.dense1 = torch.nn.Linear(24, 12)\n",
    "        self.dense2 = torch.nn.Linear(12, 24)\n",
    "\n",
    "    def forward(self, x):\n",
    "        x = x[:,:,LEAV_IDX] # batch, window_size, params\n",
    "\n",
    "        pool = torch.nn.AdaptiveAvgPool1d(1)\n",
    "        \n",
    "        attention_x = x\n",
    "        attention_x = attention_x.transpose(1,2) # batch, params, window_size\n",
    "        \n",
    "        attention = pool(attention_x) # batch, params, 1\n",
    "        \n",
    "        connection = attention # 이전 정보를 저장하고 있습니다.\n",
    "        connection = connection.reshape(-1,24) # batch, params\n",
    "        \n",
    "        # feature attention을 적용합니다.\n",
    "        attention = self.relu(torch.squeeze(attention))\n",
    "        attention = self.relu(self.dense1(attention))\n",
    "        attention = self.sigmoid(self.dense2(attention)) # sigmoid를 통해서 (batch, params)의 크기로 확률값이 나타나 있는 attention을 생성합니다.\n",
    "\n",
    "        x = x.transpose(0, 1)  # (batch, window_size, params) -> (window_size, batch, params)\n",
    "        self.rnn.flatten_parameters()\n",
    "        outs, _ = self.rnn(x)\n",
    "        out = self.fc(self.relu(outs[-1])) # 이전 대회 코드를 보고 leaky relu를 추가했습니다.\n",
    "\n",
    "        mix_factor = self.sigmoid(self.w) # w의 값을 비율로 만들어 주기 위해서 sigmoid를 적용합니다.\n",
    "\n",
    "        return mix_factor * connection * attention + out * (1 - mix_factor) # 이전 정보와 stacked lstm을 통해 skip connection을 진행합니다. 이때, 비율은 mix_factor에 의해 결정됩니다."
   ]
  },
  {
   "cell_type": "code",
   "execution_count": 21,
   "metadata": {
    "id": "0s0a9Ohp_UoK",
    "outputId": "a03b1d16-320b-4cc6-b20b-eed65721d42e"
   },
   "outputs": [
    {
     "data": {
      "text/plain": [
       "StackedLSTM(\n",
       "  (rnn): LSTM(24, 200, num_layers=3, dropout=0.1, bidirectional=True)\n",
       "  (fc): Linear(in_features=400, out_features=24, bias=True)\n",
       "  (relu): LeakyReLU(negative_slope=0.1)\n",
       "  (sigmoid): Sigmoid()\n",
       "  (dense1): Linear(in_features=24, out_features=12, bias=True)\n",
       "  (dense2): Linear(in_features=12, out_features=24, bias=True)\n",
       ")"
      ]
     },
     "execution_count": 21,
     "metadata": {},
     "output_type": "execute_result"
    }
   ],
   "source": [
    "MODEL = StackedLSTM()\n",
    "MODEL.cuda()"
   ]
  },
  {
   "cell_type": "code",
   "execution_count": 22,
   "metadata": {
    "id": "dBFtYUoa_UoL"
   },
   "outputs": [],
   "source": [
    "def train(dataset, model, batch_size, n_epochs):\n",
    "    dataloader = DataLoader(dataset, batch_size=batch_size, shuffle=True)\n",
    "    optimizer = torch.optim.AdamW(model.parameters())\n",
    "    loss_fn = torch.nn.MSELoss()\n",
    "    epochs = trange(n_epochs, desc=\"training\")\n",
    "    best = {\"loss\": sys.float_info.max}\n",
    "    loss_history = []\n",
    "    for e in epochs:\n",
    "        epoch_loss = 0\n",
    "        for batch in dataloader:\n",
    "            optimizer.zero_grad()\n",
    "            given = batch[\"given\"].cuda()\n",
    "            answer = batch[\"answer\"].cuda()\n",
    "            guess = model(given)\n",
    "            loss = loss_fn(answer[:,LEAV_IDX], guess) # answer도 86개의 feature가 있기 때문에 LEAV_IDX만 사용하기 위해 작성\n",
    "            loss.backward()\n",
    "            epoch_loss += loss.item()\n",
    "            optimizer.step()\n",
    "        loss_history.append(epoch_loss)\n",
    "        epochs.set_postfix_str(f\"loss: {epoch_loss:.6f}\")\n",
    "        if epoch_loss < best[\"loss\"]:\n",
    "            best[\"state\"] = model.state_dict()\n",
    "            best[\"loss\"] = epoch_loss\n",
    "            best[\"epoch\"] = e + 1\n",
    "    return best, loss_history"
   ]
  },
  {
   "cell_type": "code",
   "execution_count": 23,
   "metadata": {
    "colab": {
     "referenced_widgets": [
      "db4dee70dcdc49198ba71d0cebba4c95"
     ]
    },
    "id": "fYORERwR_UoM",
    "outputId": "b7f5d229-d663-4c03-814f-c7b00da7450a"
   },
   "outputs": [
    {
     "data": {
      "application/vnd.jupyter.widget-view+json": {
       "model_id": "8ef2f9b23e3e43ff806f59ced27ebef2",
       "version_major": 2,
       "version_minor": 0
      },
      "text/plain": [
       "training:   0%|          | 0/130 [00:00<?, ?it/s]"
      ]
     },
     "metadata": {},
     "output_type": "display_data"
    },
    {
     "ename": "KeyboardInterrupt",
     "evalue": "",
     "output_type": "error",
     "traceback": [
      "\u001b[0;31m---------------------------------------------------------------------------\u001b[0m",
      "\u001b[0;31mKeyboardInterrupt\u001b[0m                         Traceback (most recent call last)",
      "\u001b[0;32m<ipython-input-23-0eaf23291c47>\u001b[0m in \u001b[0;36m<module>\u001b[0;34m\u001b[0m\n\u001b[1;32m      1\u001b[0m \u001b[0mMODEL\u001b[0m\u001b[0;34m.\u001b[0m\u001b[0mtrain\u001b[0m\u001b[0;34m(\u001b[0m\u001b[0;34m)\u001b[0m\u001b[0;34m\u001b[0m\u001b[0;34m\u001b[0m\u001b[0m\n\u001b[0;32m----> 2\u001b[0;31m \u001b[0mBEST_MODEL\u001b[0m\u001b[0;34m,\u001b[0m \u001b[0mLOSS_HISTORY\u001b[0m \u001b[0;34m=\u001b[0m\u001b[0mtrain\u001b[0m\u001b[0;34m(\u001b[0m\u001b[0mHAI_DATASET_TRAIN\u001b[0m\u001b[0;34m,\u001b[0m \u001b[0mMODEL\u001b[0m\u001b[0;34m,\u001b[0m \u001b[0mBATCH_SIZE\u001b[0m\u001b[0;34m,\u001b[0m \u001b[0mepoch\u001b[0m\u001b[0;34m)\u001b[0m\u001b[0;34m\u001b[0m\u001b[0;34m\u001b[0m\u001b[0m\n\u001b[0m",
      "\u001b[0;32m<ipython-input-22-dd60c85bae3c>\u001b[0m in \u001b[0;36mtrain\u001b[0;34m(dataset, model, batch_size, n_epochs)\u001b[0m\n\u001b[1;32m     15\u001b[0m             \u001b[0mloss\u001b[0m \u001b[0;34m=\u001b[0m \u001b[0mloss_fn\u001b[0m\u001b[0;34m(\u001b[0m\u001b[0manswer\u001b[0m\u001b[0;34m[\u001b[0m\u001b[0;34m:\u001b[0m\u001b[0;34m,\u001b[0m\u001b[0mLEAV_IDX\u001b[0m\u001b[0;34m]\u001b[0m\u001b[0;34m,\u001b[0m \u001b[0mguess\u001b[0m\u001b[0;34m)\u001b[0m \u001b[0;31m# answer도 86개의 feature가 있기 때문에 LEAV_IDX만 사용하기 위해 작성\u001b[0m\u001b[0;34m\u001b[0m\u001b[0;34m\u001b[0m\u001b[0m\n\u001b[1;32m     16\u001b[0m             \u001b[0mloss\u001b[0m\u001b[0;34m.\u001b[0m\u001b[0mbackward\u001b[0m\u001b[0;34m(\u001b[0m\u001b[0;34m)\u001b[0m\u001b[0;34m\u001b[0m\u001b[0;34m\u001b[0m\u001b[0m\n\u001b[0;32m---> 17\u001b[0;31m             \u001b[0mepoch_loss\u001b[0m \u001b[0;34m+=\u001b[0m \u001b[0mloss\u001b[0m\u001b[0;34m.\u001b[0m\u001b[0mitem\u001b[0m\u001b[0;34m(\u001b[0m\u001b[0;34m)\u001b[0m\u001b[0;34m\u001b[0m\u001b[0;34m\u001b[0m\u001b[0m\n\u001b[0m\u001b[1;32m     18\u001b[0m             \u001b[0moptimizer\u001b[0m\u001b[0;34m.\u001b[0m\u001b[0mstep\u001b[0m\u001b[0;34m(\u001b[0m\u001b[0;34m)\u001b[0m\u001b[0;34m\u001b[0m\u001b[0;34m\u001b[0m\u001b[0m\n\u001b[1;32m     19\u001b[0m         \u001b[0mloss_history\u001b[0m\u001b[0;34m.\u001b[0m\u001b[0mappend\u001b[0m\u001b[0;34m(\u001b[0m\u001b[0mepoch_loss\u001b[0m\u001b[0;34m)\u001b[0m\u001b[0;34m\u001b[0m\u001b[0;34m\u001b[0m\u001b[0m\n",
      "\u001b[0;31mKeyboardInterrupt\u001b[0m: "
     ]
    }
   ],
   "source": [
    "MODEL.train()\n",
    "BEST_MODEL, LOSS_HISTORY =train(HAI_DATASET_TRAIN, MODEL, BATCH_SIZE, epoch)"
   ]
  },
  {
   "cell_type": "code",
   "execution_count": null,
   "metadata": {
    "colab": {
     "base_uri": "https://localhost:8080/"
    },
    "id": "sR40xgPDszKv",
    "outputId": "829254f9-013f-4a18-dac3-e83c1367321b"
   },
   "outputs": [],
   "source": [
    "BEST_MODEL[\"loss\"], BEST_MODEL[\"epoch\"]"
   ]
  },
  {
   "cell_type": "code",
   "execution_count": null,
   "metadata": {
    "id": "mrXv6D9mszKv"
   },
   "outputs": [],
   "source": [
    "with open(\"./data/model.pt\", \"wb\") as f:\n",
    "    torch.save(\n",
    "        {\n",
    "            \"state\": BEST_MODEL[\"state\"],\n",
    "            \"best_epoch\": BEST_MODEL[\"epoch\"],\n",
    "            \"loss_history\": LOSS_HISTORY,\n",
    "        },\n",
    "        f,\n",
    "    )"
   ]
  },
  {
   "cell_type": "code",
   "execution_count": null,
   "metadata": {
    "colab": {
     "base_uri": "https://localhost:8080/"
    },
    "id": "QkqORAjCszKw",
    "outputId": "dc50ca95-9321-405c-d466-5707553fc4bf"
   },
   "outputs": [],
   "source": [
    "with open(\"./data/model.pt\", \"rb\") as f:\n",
    "    SAVED_MODEL = torch.load(f)\n",
    "\n",
    "MODEL.load_state_dict(SAVED_MODEL[\"state\"])"
   ]
  },
  {
   "cell_type": "code",
   "execution_count": null,
   "metadata": {
    "colab": {
     "base_uri": "https://localhost:8080/",
     "height": 295
    },
    "id": "ISapReaLszKx",
    "outputId": "659660c6-f0cf-4f67-d787-e98cd6bf0659"
   },
   "outputs": [],
   "source": [
    "plt.figure(figsize=(16, 4))\n",
    "plt.title(\"Training Loss Graph\")\n",
    "plt.xlabel(\"epochs\")\n",
    "plt.ylabel(\"loss\")\n",
    "plt.yscale(\"log\")\n",
    "plt.plot(SAVED_MODEL[\"loss_history\"])\n",
    "plt.show()"
   ]
  },
  {
   "cell_type": "code",
   "execution_count": null,
   "metadata": {
    "colab": {
     "base_uri": "https://localhost:8080/",
     "height": 779
    },
    "id": "JvU5TrCVszKy",
    "outputId": "6658b1cc-49a6-4f3a-fa61-756eacc38aff"
   },
   "outputs": [],
   "source": [
    "VALIDATION_DF_RAW = dataframe_from_csvs(VALIDATION_DATASET)\n",
    "VALIDATION_DF_RAW"
   ]
  },
  {
   "cell_type": "code",
   "execution_count": null,
   "metadata": {
    "id": "jlZql56tszKz"
   },
   "outputs": [],
   "source": [
    "VALIDATION_DF = normalize(VALIDATION_DF_RAW[VALID_COLUMNS_IN_TRAIN_DATASET]).ewm(alpha=0.9).mean()"
   ]
  },
  {
   "cell_type": "code",
   "execution_count": null,
   "metadata": {
    "colab": {
     "base_uri": "https://localhost:8080/"
    },
    "id": "5Pm8jS0IszKz",
    "outputId": "ea4c7866-ffb0-42a2-a6e9-ad1d1fbd05e6"
   },
   "outputs": [],
   "source": [
    "boundary_check(VALIDATION_DF)"
   ]
  },
  {
   "cell_type": "code",
   "execution_count": null,
   "metadata": {
    "colab": {
     "base_uri": "https://localhost:8080/",
     "height": 427,
     "referenced_widgets": [
      "ce46f50d8d4342d1a898731b247f6b2d",
      "6f37722036804c66b3dc27baa1d441cc",
      "a3b0e3c823e64157a605f4cd9b3e364f",
      "67df71627af3498a839e9a49747d58c4",
      "e79bd8c0a3bb4acda9a6a71366a5b190",
      "cec651568ee14c078b220f31d90e5951",
      "b656f6da0cd04ffa81979c995bd9fb63",
      "d7a695286cdf439fa1c2f5fef61cf348",
      "94f581f9fea44d4a87745b785c23bd2b",
      "591819b20fb54cda88bf327338a2c812",
      "853e0b609e7e4e72b15e92dd9f3fe4dc",
      "708f8aad97094813850e149e4188708b"
     ]
    },
    "id": "qMbIOg4gszK0",
    "outputId": "dbd571a0-4f9c-40ef-db97-810c7fbe847e"
   },
   "outputs": [],
   "source": [
    "HAI_DATASET_VALIDATION = HaiDataset(\n",
    "    VALIDATION_DF_RAW[TIMESTAMP_FIELD], VALIDATION_DF, attacks=VALIDATION_DF_RAW[ATTACK_FIELD]\n",
    ")\n",
    "HAI_DATASET_VALIDATION[0]"
   ]
  },
  {
   "cell_type": "code",
   "execution_count": null,
   "metadata": {
    "id": "IKlRTRN_szK1"
   },
   "outputs": [],
   "source": [
    "def inference(dataset, model, batch_size):\n",
    "    dataloader = DataLoader(dataset, batch_size=batch_size)\n",
    "    ts, dist, att = [], [], []\n",
    "    with torch.no_grad():\n",
    "        for batch in dataloader:\n",
    "            given = batch[\"given\"].cuda()\n",
    "            answer = batch[\"answer\"].cuda()\n",
    "            guess = model(given)\n",
    "            ts.append(np.array(batch[\"ts\"]))\n",
    "            dist.append(torch.abs(answer[:,LEAV_IDX] - guess).cpu().numpy())\n",
    "            try:\n",
    "                att.append(np.array(batch[\"attack\"]))\n",
    "            except:\n",
    "                att.append(np.zeros(batch_size))\n",
    "            \n",
    "    return (\n",
    "        np.concatenate(ts),\n",
    "        np.concatenate(dist),\n",
    "        np.concatenate(att),\n",
    "    )"
   ]
  },
  {
   "cell_type": "code",
   "execution_count": null,
   "metadata": {
    "id": "FZVu0EdVszK2"
   },
   "outputs": [],
   "source": [
    "MODEL.eval()\n",
    "CHECK_TS, CHECK_DIST, CHECK_ATT = inference(HAI_DATASET_VALIDATION, MODEL, BATCH_SIZE)"
   ]
  },
  {
   "cell_type": "code",
   "execution_count": null,
   "metadata": {
    "colab": {
     "base_uri": "https://localhost:8080/"
    },
    "id": "0GDQUCz7szK3",
    "outputId": "1cb38d1a-4cb7-434c-c752-da1e5108eaf4"
   },
   "outputs": [],
   "source": [
    "CHECK_DIST.shape"
   ]
  },
  {
   "cell_type": "code",
   "execution_count": null,
   "metadata": {
    "id": "FjF3IF87szK4"
   },
   "outputs": [],
   "source": [
    "ANOMALY_SCORE = np.mean(CHECK_DIST, axis=1)"
   ]
  },
  {
   "cell_type": "code",
   "execution_count": null,
   "metadata": {
    "id": "eURVEnrSszK4"
   },
   "outputs": [],
   "source": [
    "def check_graph(xs, att, piece=2, THRESHOLD=None):\n",
    "    l = xs.shape[0]\n",
    "    chunk = l // piece\n",
    "    fig, axs = plt.subplots(piece, figsize=(20, 4 * piece))\n",
    "    for i in range(piece):\n",
    "        L = i * chunk\n",
    "        R = min(L + chunk, l)\n",
    "        xticks = range(L, R)\n",
    "        axs[i].plot(xticks, xs[L:R])\n",
    "        if len(xs[L:R]) > 0:\n",
    "            peak = max(xs[L:R])\n",
    "            axs[i].plot(xticks, att[L:R] * peak * 0.3)\n",
    "        if THRESHOLD!=None:\n",
    "            axs[i].axhline(y=THRESHOLD, color='r')\n",
    "    plt.show()"
   ]
  },
  {
   "cell_type": "code",
   "execution_count": null,
   "metadata": {
    "id": "cD7P95M-QUWy"
   },
   "outputs": [],
   "source": [
    "# 이전 대회의 데이터 후처리를 참고했습니다. moving average보다 lowpass filter를 적용하는 것이 성능이 좋아서 이를 선택했습니다.\n",
    "b, a = signal.butter(1, 0.02, btype='lowpass')"
   ]
  },
  {
   "cell_type": "code",
   "execution_count": null,
   "metadata": {
    "colab": {
     "base_uri": "https://localhost:8080/",
     "height": 1000
    },
    "id": "qgpwlsdNQaZp",
    "outputId": "b3846495-5f8c-4528-fbdc-a069f949d53e"
   },
   "outputs": [],
   "source": [
    "THRESHOLD = 0.008\n",
    "\n",
    "check_graph(signal.filtfilt(b,a,ANOMALY_SCORE), CHECK_ATT, piece=2, THRESHOLD=THRESHOLD)"
   ]
  },
  {
   "cell_type": "code",
   "execution_count": null,
   "metadata": {
    "id": "ItPT-09yszK5"
   },
   "outputs": [],
   "source": [
    "def put_labels(distance, threshold):\n",
    "    xs = np.zeros_like(distance)\n",
    "    xs[distance > threshold] = 1\n",
    "    return xs"
   ]
  },
  {
   "cell_type": "code",
   "execution_count": null,
   "metadata": {
    "colab": {
     "base_uri": "https://localhost:8080/"
    },
    "id": "3trN4IuJszK6",
    "outputId": "bdb62c50-2418-4e8f-8164-0c12eccdc3da"
   },
   "outputs": [],
   "source": [
    "LABELS = put_labels(signal.filtfilt(b,a,ANOMALY_SCORE), THRESHOLD)\n",
    "LABELS, LABELS.shape"
   ]
  },
  {
   "cell_type": "code",
   "execution_count": null,
   "metadata": {
    "colab": {
     "base_uri": "https://localhost:8080/"
    },
    "id": "hKmGnzWyszK7",
    "outputId": "27d6e7c7-7dbf-4592-f331-63119e79dad0"
   },
   "outputs": [],
   "source": [
    "ATTACK_LABELS = put_labels(np.array(VALIDATION_DF_RAW[ATTACK_FIELD]), threshold=0.5)\n",
    "ATTACK_LABELS, ATTACK_LABELS.shape"
   ]
  },
  {
   "cell_type": "code",
   "execution_count": null,
   "metadata": {
    "id": "07gSeTwfszK8"
   },
   "outputs": [],
   "source": [
    "def fill_blank(check_ts, labels, total_ts):\n",
    "    def ts_generator():\n",
    "        for t in total_ts:\n",
    "            yield dateutil.parser.parse(t)\n",
    "\n",
    "    def label_generator():\n",
    "        for t, label in zip(check_ts, labels):\n",
    "            yield dateutil.parser.parse(t), label\n",
    "\n",
    "    g_ts = ts_generator()\n",
    "    g_label = label_generator()\n",
    "    final_labels = []\n",
    "\n",
    "    try:\n",
    "        current = next(g_ts)\n",
    "        ts_label, label = next(g_label)\n",
    "        while True:\n",
    "            if current > ts_label:\n",
    "                ts_label, label = next(g_label)\n",
    "                continue\n",
    "            elif current < ts_label:\n",
    "                final_labels.append(0)\n",
    "                current = next(g_ts)\n",
    "                continue\n",
    "            final_labels.append(label)\n",
    "            current = next(g_ts)\n",
    "            ts_label, label = next(g_label)\n",
    "    except StopIteration:\n",
    "        return np.array(final_labels, dtype=np.int8)"
   ]
  },
  {
   "cell_type": "code",
   "execution_count": null,
   "metadata": {
    "colab": {
     "base_uri": "https://localhost:8080/"
    },
    "id": "8NfErcjRszK8",
    "outputId": "3901f524-01df-4a70-c4e7-dd45c1d6d2ea"
   },
   "outputs": [],
   "source": [
    "%%time\n",
    "FINAL_LABELS = fill_blank(CHECK_TS, LABELS, np.array(VALIDATION_DF_RAW[TIMESTAMP_FIELD]))\n",
    "FINAL_LABELS.shape"
   ]
  },
  {
   "cell_type": "code",
   "execution_count": null,
   "metadata": {
    "colab": {
     "base_uri": "https://localhost:8080/"
    },
    "id": "McB3DvVKszK-",
    "outputId": "78dfeb0f-b415-4cb1-dab9-5b098be4c721"
   },
   "outputs": [],
   "source": [
    "TaPR = etapr.evaluate_haicon(anomalies=ATTACK_LABELS, predictions=FINAL_LABELS)\n",
    "print(f\"F1: {TaPR['f1']:.3f} (TaP: {TaPR['TaP']:.3f}, TaR: {TaPR['TaR']:.3f})\")\n",
    "print(f\"# of detected anomalies: {len(TaPR['Detected_Anomalies'])}\")\n",
    "print(f\"Detected anomalies: {TaPR['Detected_Anomalies']}\")"
   ]
  },
  {
   "cell_type": "code",
   "execution_count": null,
   "metadata": {
    "colab": {
     "base_uri": "https://localhost:8080/",
     "height": 779
    },
    "id": "gZTB_nrMszK-",
    "outputId": "c22f455c-4ff0-450d-9b64-bc17c3616e9c"
   },
   "outputs": [],
   "source": [
    "TEST_DF_RAW = dataframe_from_csvs(TEST_DATASET)\n",
    "TEST_DF_RAW"
   ]
  },
  {
   "cell_type": "code",
   "execution_count": null,
   "metadata": {
    "colab": {
     "base_uri": "https://localhost:8080/",
     "height": 439
    },
    "id": "MZ51e0NZszK_",
    "outputId": "bcdb400e-1861-413d-a9ef-2c136fc4bce9"
   },
   "outputs": [],
   "source": [
    "TEST_DF = normalize(TEST_DF_RAW[VALID_COLUMNS_IN_TRAIN_DATASET]).ewm(alpha=0.9).mean()\n",
    "TEST_DF"
   ]
  },
  {
   "cell_type": "code",
   "execution_count": null,
   "metadata": {
    "colab": {
     "base_uri": "https://localhost:8080/"
    },
    "id": "9eMmZgzfszLA",
    "outputId": "f71123fc-65cf-4bdf-a4b2-349082526a12"
   },
   "outputs": [],
   "source": [
    "boundary_check(TEST_DF)"
   ]
  },
  {
   "cell_type": "code",
   "execution_count": null,
   "metadata": {
    "colab": {
     "base_uri": "https://localhost:8080/",
     "height": 427,
     "referenced_widgets": [
      "f76f817885164951bf62816c3f92d896",
      "c8a4de927bbc4b9a9a56b30a32f52c0a",
      "77001ff6f02a463c836df5aa497405b4",
      "a944bd7a62c0432092b5a45e90b126ce",
      "6fdc744a3d4442a8a9c59e14fbf4e02f",
      "2bb9d09deb674ee6a3e8e931c3e64826",
      "0e91c48ee14648ec9520f5ffd6604960",
      "585f104ab00d41b9b1bee2914a6026c1",
      "5119450eaf2340ceb7aed8150a55db00",
      "9139d44ae6614e14bae41aef5c673b4d",
      "5a3729fc343f48c694bb6b84108ba828",
      "614b210cf5e24df1b4752c9997ed6514"
     ]
    },
    "id": "jn6TCc0MszLA",
    "outputId": "bb590e44-02c5-4bb4-b2d7-50c365a58f21"
   },
   "outputs": [],
   "source": [
    "HAI_DATASET_TEST = HaiDataset(\n",
    "    TEST_DF_RAW[TIMESTAMP_FIELD], TEST_DF, attacks=None\n",
    ")"
   ]
  },
  {
   "cell_type": "code",
   "execution_count": null,
   "metadata": {
    "colab": {
     "base_uri": "https://localhost:8080/"
    },
    "id": "jX8tuWAoszLB",
    "outputId": "c6093f99-ee15-4d43-f008-6e97808cd4a4"
   },
   "outputs": [],
   "source": [
    "%%time\n",
    "MODEL.eval()\n",
    "CHECK_TS, CHECK_DIST, CHECK_ATT = inference(HAI_DATASET_TEST, MODEL, BATCH_SIZE)"
   ]
  },
  {
   "cell_type": "code",
   "execution_count": null,
   "metadata": {
    "id": "BwGt1ka0szLC"
   },
   "outputs": [],
   "source": [
    "ANOMALY_SCORE = np.mean(CHECK_DIST, axis=1)"
   ]
  },
  {
   "cell_type": "code",
   "execution_count": null,
   "metadata": {
    "colab": {
     "base_uri": "https://localhost:8080/",
     "height": 700
    },
    "id": "x_6pmwATszLD",
    "outputId": "4ee61e00-3dea-445e-b83d-107366846a36"
   },
   "outputs": [],
   "source": [
    "check_graph(signal.filtfilt(b,a,ANOMALY_SCORE), CHECK_ATT, piece=3, THRESHOLD=THRESHOLD)"
   ]
  },
  {
   "cell_type": "code",
   "execution_count": null,
   "metadata": {
    "colab": {
     "base_uri": "https://localhost:8080/"
    },
    "id": "Gy2HyxClszLE",
    "outputId": "6a700359-36fb-4154-ed84-2623f37e4110"
   },
   "outputs": [],
   "source": [
    "LABELS = put_labels(signal.filtfilt(b,a,ANOMALY_SCORE), THRESHOLD)\n",
    "LABELS, LABELS.shape"
   ]
  },
  {
   "cell_type": "code",
   "execution_count": null,
   "metadata": {
    "colab": {
     "base_uri": "https://localhost:8080/",
     "height": 450
    },
    "id": "Dgy1TvmVszLE",
    "outputId": "bed0f725-622a-444d-aa6f-b41ea8bfa052"
   },
   "outputs": [],
   "source": [
    "submission = pd.read_csv('./data/sample_submission.csv')\n",
    "submission.index = submission['timestamp']\n",
    "submission.loc[CHECK_TS,'attack'] = LABELS\n",
    "submission"
   ]
  },
  {
   "cell_type": "code",
   "execution_count": null,
   "metadata": {
    "id": "JOEYDL94szLF"
   },
   "outputs": [],
   "source": [
    "submission.to_csv('./data/submission_final.csv', index=False)"
   ]
  },
  {
   "cell_type": "code",
   "execution_count": null,
   "metadata": {},
   "outputs": [],
   "source": []
  },
  {
   "cell_type": "code",
   "execution_count": null,
   "metadata": {},
   "outputs": [],
   "source": []
  },
  {
   "cell_type": "code",
   "execution_count": null,
   "metadata": {},
   "outputs": [],
   "source": []
  }
 ],
 "metadata": {
  "accelerator": "GPU",
  "colab": {
   "collapsed_sections": [],
   "machine_shape": "hm",
   "name": "2021.10.3.ipynb",
   "provenance": []
  },
  "kernelspec": {
   "display_name": "Python 3 (Notebook)",
   "language": "python",
   "name": "python3"
  },
  "language_info": {
   "codemirror_mode": {
    "name": "ipython",
    "version": 3
   },
   "file_extension": ".py",
   "mimetype": "text/x-python",
   "name": "python",
   "nbconvert_exporter": "python",
   "pygments_lexer": "ipython3",
   "version": "3.6.13"
  },
  "widgets": {
   "application/vnd.jupyter.widget-state+json": {
    "08882ce91bd14dc48271a64c251dfa6e": {
     "model_module": "@jupyter-widgets/controls",
     "model_module_version": "1.5.0",
     "model_name": "HTMLModel",
     "state": {
      "_dom_classes": [],
      "_model_module": "@jupyter-widgets/controls",
      "_model_module_version": "1.5.0",
      "_model_name": "HTMLModel",
      "_view_count": null,
      "_view_module": "@jupyter-widgets/controls",
      "_view_module_version": "1.5.0",
      "_view_name": "HTMLView",
      "description": "",
      "description_tooltip": null,
      "layout": "IPY_MODEL_adf2a18b31704b37acaa9e3271e3c6a0",
      "placeholder": "​",
      "style": "IPY_MODEL_b3326d8a6106499fa2bbcffff7297cf1",
      "value": " 1004363/1004363 [02:18&lt;00:00, 6493.67it/s]"
     }
    },
    "0e91c48ee14648ec9520f5ffd6604960": {
     "model_module": "@jupyter-widgets/base",
     "model_module_version": "1.2.0",
     "model_name": "LayoutModel",
     "state": {
      "_model_module": "@jupyter-widgets/base",
      "_model_module_version": "1.2.0",
      "_model_name": "LayoutModel",
      "_view_count": null,
      "_view_module": "@jupyter-widgets/base",
      "_view_module_version": "1.2.0",
      "_view_name": "LayoutView",
      "align_content": null,
      "align_items": null,
      "align_self": null,
      "border": null,
      "bottom": null,
      "display": null,
      "flex": null,
      "flex_flow": null,
      "grid_area": null,
      "grid_auto_columns": null,
      "grid_auto_flow": null,
      "grid_auto_rows": null,
      "grid_column": null,
      "grid_gap": null,
      "grid_row": null,
      "grid_template_areas": null,
      "grid_template_columns": null,
      "grid_template_rows": null,
      "height": null,
      "justify_content": null,
      "justify_items": null,
      "left": null,
      "margin": null,
      "max_height": null,
      "max_width": null,
      "min_height": null,
      "min_width": null,
      "object_fit": null,
      "object_position": null,
      "order": null,
      "overflow": null,
      "overflow_x": null,
      "overflow_y": null,
      "padding": null,
      "right": null,
      "top": null,
      "visibility": null,
      "width": null
     }
    },
    "13d22cdf9ca44e96988c3eb3eb4a1b1d": {
     "model_module": "@jupyter-widgets/controls",
     "model_module_version": "1.5.0",
     "model_name": "HBoxModel",
     "state": {
      "_dom_classes": [],
      "_model_module": "@jupyter-widgets/controls",
      "_model_module_version": "1.5.0",
      "_model_name": "HBoxModel",
      "_view_count": null,
      "_view_module": "@jupyter-widgets/controls",
      "_view_module_version": "1.5.0",
      "_view_name": "HBoxView",
      "box_style": "",
      "children": [
       "IPY_MODEL_65bc7cc65db34919bb2042d373b4cc70",
       "IPY_MODEL_143495a6658d4b2999df6032b281f5fd",
       "IPY_MODEL_08882ce91bd14dc48271a64c251dfa6e"
      ],
      "layout": "IPY_MODEL_2b5aef74e1fe49c08214e3c04d447d6d"
     }
    },
    "143495a6658d4b2999df6032b281f5fd": {
     "model_module": "@jupyter-widgets/controls",
     "model_module_version": "1.5.0",
     "model_name": "FloatProgressModel",
     "state": {
      "_dom_classes": [],
      "_model_module": "@jupyter-widgets/controls",
      "_model_module_version": "1.5.0",
      "_model_name": "FloatProgressModel",
      "_view_count": null,
      "_view_module": "@jupyter-widgets/controls",
      "_view_module_version": "1.5.0",
      "_view_name": "ProgressView",
      "bar_style": "success",
      "description": "",
      "description_tooltip": null,
      "layout": "IPY_MODEL_6ce83bd5f0e94b699aec15a0f1f38b2c",
      "max": 1004363,
      "min": 0,
      "orientation": "horizontal",
      "style": "IPY_MODEL_2f13406132844297b576ef6a93653021",
      "value": 1004363
     }
    },
    "241e09561c1542038e248cfd07ff5610": {
     "model_module": "@jupyter-widgets/base",
     "model_module_version": "1.2.0",
     "model_name": "LayoutModel",
     "state": {
      "_model_module": "@jupyter-widgets/base",
      "_model_module_version": "1.2.0",
      "_model_name": "LayoutModel",
      "_view_count": null,
      "_view_module": "@jupyter-widgets/base",
      "_view_module_version": "1.2.0",
      "_view_name": "LayoutView",
      "align_content": null,
      "align_items": null,
      "align_self": null,
      "border": null,
      "bottom": null,
      "display": null,
      "flex": null,
      "flex_flow": null,
      "grid_area": null,
      "grid_auto_columns": null,
      "grid_auto_flow": null,
      "grid_auto_rows": null,
      "grid_column": null,
      "grid_gap": null,
      "grid_row": null,
      "grid_template_areas": null,
      "grid_template_columns": null,
      "grid_template_rows": null,
      "height": null,
      "justify_content": null,
      "justify_items": null,
      "left": null,
      "margin": null,
      "max_height": null,
      "max_width": null,
      "min_height": null,
      "min_width": null,
      "object_fit": null,
      "object_position": null,
      "order": null,
      "overflow": null,
      "overflow_x": null,
      "overflow_y": null,
      "padding": null,
      "right": null,
      "top": null,
      "visibility": null,
      "width": null
     }
    },
    "2b5aef74e1fe49c08214e3c04d447d6d": {
     "model_module": "@jupyter-widgets/base",
     "model_module_version": "1.2.0",
     "model_name": "LayoutModel",
     "state": {
      "_model_module": "@jupyter-widgets/base",
      "_model_module_version": "1.2.0",
      "_model_name": "LayoutModel",
      "_view_count": null,
      "_view_module": "@jupyter-widgets/base",
      "_view_module_version": "1.2.0",
      "_view_name": "LayoutView",
      "align_content": null,
      "align_items": null,
      "align_self": null,
      "border": null,
      "bottom": null,
      "display": null,
      "flex": null,
      "flex_flow": null,
      "grid_area": null,
      "grid_auto_columns": null,
      "grid_auto_flow": null,
      "grid_auto_rows": null,
      "grid_column": null,
      "grid_gap": null,
      "grid_row": null,
      "grid_template_areas": null,
      "grid_template_columns": null,
      "grid_template_rows": null,
      "height": null,
      "justify_content": null,
      "justify_items": null,
      "left": null,
      "margin": null,
      "max_height": null,
      "max_width": null,
      "min_height": null,
      "min_width": null,
      "object_fit": null,
      "object_position": null,
      "order": null,
      "overflow": null,
      "overflow_x": null,
      "overflow_y": null,
      "padding": null,
      "right": null,
      "top": null,
      "visibility": null,
      "width": null
     }
    },
    "2bb9d09deb674ee6a3e8e931c3e64826": {
     "model_module": "@jupyter-widgets/controls",
     "model_module_version": "1.5.0",
     "model_name": "DescriptionStyleModel",
     "state": {
      "_model_module": "@jupyter-widgets/controls",
      "_model_module_version": "1.5.0",
      "_model_name": "DescriptionStyleModel",
      "_view_count": null,
      "_view_module": "@jupyter-widgets/base",
      "_view_module_version": "1.2.0",
      "_view_name": "StyleView",
      "description_width": ""
     }
    },
    "2f13406132844297b576ef6a93653021": {
     "model_module": "@jupyter-widgets/controls",
     "model_module_version": "1.5.0",
     "model_name": "ProgressStyleModel",
     "state": {
      "_model_module": "@jupyter-widgets/controls",
      "_model_module_version": "1.5.0",
      "_model_name": "ProgressStyleModel",
      "_view_count": null,
      "_view_module": "@jupyter-widgets/base",
      "_view_module_version": "1.2.0",
      "_view_name": "StyleView",
      "bar_color": null,
      "description_width": ""
     }
    },
    "5119450eaf2340ceb7aed8150a55db00": {
     "model_module": "@jupyter-widgets/base",
     "model_module_version": "1.2.0",
     "model_name": "LayoutModel",
     "state": {
      "_model_module": "@jupyter-widgets/base",
      "_model_module_version": "1.2.0",
      "_model_name": "LayoutModel",
      "_view_count": null,
      "_view_module": "@jupyter-widgets/base",
      "_view_module_version": "1.2.0",
      "_view_name": "LayoutView",
      "align_content": null,
      "align_items": null,
      "align_self": null,
      "border": null,
      "bottom": null,
      "display": null,
      "flex": null,
      "flex_flow": null,
      "grid_area": null,
      "grid_auto_columns": null,
      "grid_auto_flow": null,
      "grid_auto_rows": null,
      "grid_column": null,
      "grid_gap": null,
      "grid_row": null,
      "grid_template_areas": null,
      "grid_template_columns": null,
      "grid_template_rows": null,
      "height": null,
      "justify_content": null,
      "justify_items": null,
      "left": null,
      "margin": null,
      "max_height": null,
      "max_width": null,
      "min_height": null,
      "min_width": null,
      "object_fit": null,
      "object_position": null,
      "order": null,
      "overflow": null,
      "overflow_x": null,
      "overflow_y": null,
      "padding": null,
      "right": null,
      "top": null,
      "visibility": null,
      "width": null
     }
    },
    "585f104ab00d41b9b1bee2914a6026c1": {
     "model_module": "@jupyter-widgets/controls",
     "model_module_version": "1.5.0",
     "model_name": "ProgressStyleModel",
     "state": {
      "_model_module": "@jupyter-widgets/controls",
      "_model_module_version": "1.5.0",
      "_model_name": "ProgressStyleModel",
      "_view_count": null,
      "_view_module": "@jupyter-widgets/base",
      "_view_module_version": "1.2.0",
      "_view_name": "StyleView",
      "bar_color": null,
      "description_width": ""
     }
    },
    "591819b20fb54cda88bf327338a2c812": {
     "model_module": "@jupyter-widgets/controls",
     "model_module_version": "1.5.0",
     "model_name": "DescriptionStyleModel",
     "state": {
      "_model_module": "@jupyter-widgets/controls",
      "_model_module_version": "1.5.0",
      "_model_name": "DescriptionStyleModel",
      "_view_count": null,
      "_view_module": "@jupyter-widgets/base",
      "_view_module_version": "1.2.0",
      "_view_name": "StyleView",
      "description_width": ""
     }
    },
    "5a3729fc343f48c694bb6b84108ba828": {
     "model_module": "@jupyter-widgets/base",
     "model_module_version": "1.2.0",
     "model_name": "LayoutModel",
     "state": {
      "_model_module": "@jupyter-widgets/base",
      "_model_module_version": "1.2.0",
      "_model_name": "LayoutModel",
      "_view_count": null,
      "_view_module": "@jupyter-widgets/base",
      "_view_module_version": "1.2.0",
      "_view_name": "LayoutView",
      "align_content": null,
      "align_items": null,
      "align_self": null,
      "border": null,
      "bottom": null,
      "display": null,
      "flex": null,
      "flex_flow": null,
      "grid_area": null,
      "grid_auto_columns": null,
      "grid_auto_flow": null,
      "grid_auto_rows": null,
      "grid_column": null,
      "grid_gap": null,
      "grid_row": null,
      "grid_template_areas": null,
      "grid_template_columns": null,
      "grid_template_rows": null,
      "height": null,
      "justify_content": null,
      "justify_items": null,
      "left": null,
      "margin": null,
      "max_height": null,
      "max_width": null,
      "min_height": null,
      "min_width": null,
      "object_fit": null,
      "object_position": null,
      "order": null,
      "overflow": null,
      "overflow_x": null,
      "overflow_y": null,
      "padding": null,
      "right": null,
      "top": null,
      "visibility": null,
      "width": null
     }
    },
    "65bc7cc65db34919bb2042d373b4cc70": {
     "model_module": "@jupyter-widgets/controls",
     "model_module_version": "1.5.0",
     "model_name": "HTMLModel",
     "state": {
      "_dom_classes": [],
      "_model_module": "@jupyter-widgets/controls",
      "_model_module_version": "1.5.0",
      "_model_name": "HTMLModel",
      "_view_count": null,
      "_view_module": "@jupyter-widgets/controls",
      "_view_module_version": "1.5.0",
      "_view_name": "HTMLView",
      "description": "",
      "description_tooltip": null,
      "layout": "IPY_MODEL_241e09561c1542038e248cfd07ff5610",
      "placeholder": "​",
      "style": "IPY_MODEL_f81f94deebf949aebebfeb14b9f84eca",
      "value": "100%"
     }
    },
    "67df71627af3498a839e9a49747d58c4": {
     "model_module": "@jupyter-widgets/controls",
     "model_module_version": "1.5.0",
     "model_name": "FloatProgressModel",
     "state": {
      "_dom_classes": [],
      "_model_module": "@jupyter-widgets/controls",
      "_model_module_version": "1.5.0",
      "_model_name": "FloatProgressModel",
      "_view_count": null,
      "_view_module": "@jupyter-widgets/controls",
      "_view_module_version": "1.5.0",
      "_view_name": "ProgressView",
      "bar_style": "success",
      "description": "",
      "description_tooltip": null,
      "layout": "IPY_MODEL_94f581f9fea44d4a87745b785c23bd2b",
      "max": 86361,
      "min": 0,
      "orientation": "horizontal",
      "style": "IPY_MODEL_d7a695286cdf439fa1c2f5fef61cf348",
      "value": 86361
     }
    },
    "6ce83bd5f0e94b699aec15a0f1f38b2c": {
     "model_module": "@jupyter-widgets/base",
     "model_module_version": "1.2.0",
     "model_name": "LayoutModel",
     "state": {
      "_model_module": "@jupyter-widgets/base",
      "_model_module_version": "1.2.0",
      "_model_name": "LayoutModel",
      "_view_count": null,
      "_view_module": "@jupyter-widgets/base",
      "_view_module_version": "1.2.0",
      "_view_name": "LayoutView",
      "align_content": null,
      "align_items": null,
      "align_self": null,
      "border": null,
      "bottom": null,
      "display": null,
      "flex": null,
      "flex_flow": null,
      "grid_area": null,
      "grid_auto_columns": null,
      "grid_auto_flow": null,
      "grid_auto_rows": null,
      "grid_column": null,
      "grid_gap": null,
      "grid_row": null,
      "grid_template_areas": null,
      "grid_template_columns": null,
      "grid_template_rows": null,
      "height": null,
      "justify_content": null,
      "justify_items": null,
      "left": null,
      "margin": null,
      "max_height": null,
      "max_width": null,
      "min_height": null,
      "min_width": null,
      "object_fit": null,
      "object_position": null,
      "order": null,
      "overflow": null,
      "overflow_x": null,
      "overflow_y": null,
      "padding": null,
      "right": null,
      "top": null,
      "visibility": null,
      "width": null
     }
    },
    "6f37722036804c66b3dc27baa1d441cc": {
     "model_module": "@jupyter-widgets/base",
     "model_module_version": "1.2.0",
     "model_name": "LayoutModel",
     "state": {
      "_model_module": "@jupyter-widgets/base",
      "_model_module_version": "1.2.0",
      "_model_name": "LayoutModel",
      "_view_count": null,
      "_view_module": "@jupyter-widgets/base",
      "_view_module_version": "1.2.0",
      "_view_name": "LayoutView",
      "align_content": null,
      "align_items": null,
      "align_self": null,
      "border": null,
      "bottom": null,
      "display": null,
      "flex": null,
      "flex_flow": null,
      "grid_area": null,
      "grid_auto_columns": null,
      "grid_auto_flow": null,
      "grid_auto_rows": null,
      "grid_column": null,
      "grid_gap": null,
      "grid_row": null,
      "grid_template_areas": null,
      "grid_template_columns": null,
      "grid_template_rows": null,
      "height": null,
      "justify_content": null,
      "justify_items": null,
      "left": null,
      "margin": null,
      "max_height": null,
      "max_width": null,
      "min_height": null,
      "min_width": null,
      "object_fit": null,
      "object_position": null,
      "order": null,
      "overflow": null,
      "overflow_x": null,
      "overflow_y": null,
      "padding": null,
      "right": null,
      "top": null,
      "visibility": null,
      "width": null
     }
    },
    "6fdc744a3d4442a8a9c59e14fbf4e02f": {
     "model_module": "@jupyter-widgets/controls",
     "model_module_version": "1.5.0",
     "model_name": "HTMLModel",
     "state": {
      "_dom_classes": [],
      "_model_module": "@jupyter-widgets/controls",
      "_model_module_version": "1.5.0",
      "_model_name": "HTMLModel",
      "_view_count": null,
      "_view_module": "@jupyter-widgets/controls",
      "_view_module_version": "1.5.0",
      "_view_name": "HTMLView",
      "description": "",
      "description_tooltip": null,
      "layout": "IPY_MODEL_5a3729fc343f48c694bb6b84108ba828",
      "placeholder": "​",
      "style": "IPY_MODEL_9139d44ae6614e14bae41aef5c673b4d",
      "value": " 274761/274761 [00:39&lt;00:00, 7029.20it/s]"
     }
    },
    "77001ff6f02a463c836df5aa497405b4": {
     "model_module": "@jupyter-widgets/controls",
     "model_module_version": "1.5.0",
     "model_name": "HTMLModel",
     "state": {
      "_dom_classes": [],
      "_model_module": "@jupyter-widgets/controls",
      "_model_module_version": "1.5.0",
      "_model_name": "HTMLModel",
      "_view_count": null,
      "_view_module": "@jupyter-widgets/controls",
      "_view_module_version": "1.5.0",
      "_view_name": "HTMLView",
      "description": "",
      "description_tooltip": null,
      "layout": "IPY_MODEL_0e91c48ee14648ec9520f5ffd6604960",
      "placeholder": "​",
      "style": "IPY_MODEL_2bb9d09deb674ee6a3e8e931c3e64826",
      "value": "100%"
     }
    },
    "853e0b609e7e4e72b15e92dd9f3fe4dc": {
     "model_module": "@jupyter-widgets/base",
     "model_module_version": "1.2.0",
     "model_name": "LayoutModel",
     "state": {
      "_model_module": "@jupyter-widgets/base",
      "_model_module_version": "1.2.0",
      "_model_name": "LayoutModel",
      "_view_count": null,
      "_view_module": "@jupyter-widgets/base",
      "_view_module_version": "1.2.0",
      "_view_name": "LayoutView",
      "align_content": null,
      "align_items": null,
      "align_self": null,
      "border": null,
      "bottom": null,
      "display": null,
      "flex": null,
      "flex_flow": null,
      "grid_area": null,
      "grid_auto_columns": null,
      "grid_auto_flow": null,
      "grid_auto_rows": null,
      "grid_column": null,
      "grid_gap": null,
      "grid_row": null,
      "grid_template_areas": null,
      "grid_template_columns": null,
      "grid_template_rows": null,
      "height": null,
      "justify_content": null,
      "justify_items": null,
      "left": null,
      "margin": null,
      "max_height": null,
      "max_width": null,
      "min_height": null,
      "min_width": null,
      "object_fit": null,
      "object_position": null,
      "order": null,
      "overflow": null,
      "overflow_x": null,
      "overflow_y": null,
      "padding": null,
      "right": null,
      "top": null,
      "visibility": null,
      "width": null
     }
    },
    "9139d44ae6614e14bae41aef5c673b4d": {
     "model_module": "@jupyter-widgets/controls",
     "model_module_version": "1.5.0",
     "model_name": "DescriptionStyleModel",
     "state": {
      "_model_module": "@jupyter-widgets/controls",
      "_model_module_version": "1.5.0",
      "_model_name": "DescriptionStyleModel",
      "_view_count": null,
      "_view_module": "@jupyter-widgets/base",
      "_view_module_version": "1.2.0",
      "_view_name": "StyleView",
      "description_width": ""
     }
    },
    "94f581f9fea44d4a87745b785c23bd2b": {
     "model_module": "@jupyter-widgets/base",
     "model_module_version": "1.2.0",
     "model_name": "LayoutModel",
     "state": {
      "_model_module": "@jupyter-widgets/base",
      "_model_module_version": "1.2.0",
      "_model_name": "LayoutModel",
      "_view_count": null,
      "_view_module": "@jupyter-widgets/base",
      "_view_module_version": "1.2.0",
      "_view_name": "LayoutView",
      "align_content": null,
      "align_items": null,
      "align_self": null,
      "border": null,
      "bottom": null,
      "display": null,
      "flex": null,
      "flex_flow": null,
      "grid_area": null,
      "grid_auto_columns": null,
      "grid_auto_flow": null,
      "grid_auto_rows": null,
      "grid_column": null,
      "grid_gap": null,
      "grid_row": null,
      "grid_template_areas": null,
      "grid_template_columns": null,
      "grid_template_rows": null,
      "height": null,
      "justify_content": null,
      "justify_items": null,
      "left": null,
      "margin": null,
      "max_height": null,
      "max_width": null,
      "min_height": null,
      "min_width": null,
      "object_fit": null,
      "object_position": null,
      "order": null,
      "overflow": null,
      "overflow_x": null,
      "overflow_y": null,
      "padding": null,
      "right": null,
      "top": null,
      "visibility": null,
      "width": null
     }
    },
    "a3b0e3c823e64157a605f4cd9b3e364f": {
     "model_module": "@jupyter-widgets/controls",
     "model_module_version": "1.5.0",
     "model_name": "HTMLModel",
     "state": {
      "_dom_classes": [],
      "_model_module": "@jupyter-widgets/controls",
      "_model_module_version": "1.5.0",
      "_model_name": "HTMLModel",
      "_view_count": null,
      "_view_module": "@jupyter-widgets/controls",
      "_view_module_version": "1.5.0",
      "_view_name": "HTMLView",
      "description": "",
      "description_tooltip": null,
      "layout": "IPY_MODEL_b656f6da0cd04ffa81979c995bd9fb63",
      "placeholder": "​",
      "style": "IPY_MODEL_cec651568ee14c078b220f31d90e5951",
      "value": "100%"
     }
    },
    "a944bd7a62c0432092b5a45e90b126ce": {
     "model_module": "@jupyter-widgets/controls",
     "model_module_version": "1.5.0",
     "model_name": "FloatProgressModel",
     "state": {
      "_dom_classes": [],
      "_model_module": "@jupyter-widgets/controls",
      "_model_module_version": "1.5.0",
      "_model_name": "FloatProgressModel",
      "_view_count": null,
      "_view_module": "@jupyter-widgets/controls",
      "_view_module_version": "1.5.0",
      "_view_name": "ProgressView",
      "bar_style": "success",
      "description": "",
      "description_tooltip": null,
      "layout": "IPY_MODEL_5119450eaf2340ceb7aed8150a55db00",
      "max": 274761,
      "min": 0,
      "orientation": "horizontal",
      "style": "IPY_MODEL_585f104ab00d41b9b1bee2914a6026c1",
      "value": 274761
     }
    },
    "adf2a18b31704b37acaa9e3271e3c6a0": {
     "model_module": "@jupyter-widgets/base",
     "model_module_version": "1.2.0",
     "model_name": "LayoutModel",
     "state": {
      "_model_module": "@jupyter-widgets/base",
      "_model_module_version": "1.2.0",
      "_model_name": "LayoutModel",
      "_view_count": null,
      "_view_module": "@jupyter-widgets/base",
      "_view_module_version": "1.2.0",
      "_view_name": "LayoutView",
      "align_content": null,
      "align_items": null,
      "align_self": null,
      "border": null,
      "bottom": null,
      "display": null,
      "flex": null,
      "flex_flow": null,
      "grid_area": null,
      "grid_auto_columns": null,
      "grid_auto_flow": null,
      "grid_auto_rows": null,
      "grid_column": null,
      "grid_gap": null,
      "grid_row": null,
      "grid_template_areas": null,
      "grid_template_columns": null,
      "grid_template_rows": null,
      "height": null,
      "justify_content": null,
      "justify_items": null,
      "left": null,
      "margin": null,
      "max_height": null,
      "max_width": null,
      "min_height": null,
      "min_width": null,
      "object_fit": null,
      "object_position": null,
      "order": null,
      "overflow": null,
      "overflow_x": null,
      "overflow_y": null,
      "padding": null,
      "right": null,
      "top": null,
      "visibility": null,
      "width": null
     }
    },
    "b3326d8a6106499fa2bbcffff7297cf1": {
     "model_module": "@jupyter-widgets/controls",
     "model_module_version": "1.5.0",
     "model_name": "DescriptionStyleModel",
     "state": {
      "_model_module": "@jupyter-widgets/controls",
      "_model_module_version": "1.5.0",
      "_model_name": "DescriptionStyleModel",
      "_view_count": null,
      "_view_module": "@jupyter-widgets/base",
      "_view_module_version": "1.2.0",
      "_view_name": "StyleView",
      "description_width": ""
     }
    },
    "b656f6da0cd04ffa81979c995bd9fb63": {
     "model_module": "@jupyter-widgets/base",
     "model_module_version": "1.2.0",
     "model_name": "LayoutModel",
     "state": {
      "_model_module": "@jupyter-widgets/base",
      "_model_module_version": "1.2.0",
      "_model_name": "LayoutModel",
      "_view_count": null,
      "_view_module": "@jupyter-widgets/base",
      "_view_module_version": "1.2.0",
      "_view_name": "LayoutView",
      "align_content": null,
      "align_items": null,
      "align_self": null,
      "border": null,
      "bottom": null,
      "display": null,
      "flex": null,
      "flex_flow": null,
      "grid_area": null,
      "grid_auto_columns": null,
      "grid_auto_flow": null,
      "grid_auto_rows": null,
      "grid_column": null,
      "grid_gap": null,
      "grid_row": null,
      "grid_template_areas": null,
      "grid_template_columns": null,
      "grid_template_rows": null,
      "height": null,
      "justify_content": null,
      "justify_items": null,
      "left": null,
      "margin": null,
      "max_height": null,
      "max_width": null,
      "min_height": null,
      "min_width": null,
      "object_fit": null,
      "object_position": null,
      "order": null,
      "overflow": null,
      "overflow_x": null,
      "overflow_y": null,
      "padding": null,
      "right": null,
      "top": null,
      "visibility": null,
      "width": null
     }
    },
    "c8a4de927bbc4b9a9a56b30a32f52c0a": {
     "model_module": "@jupyter-widgets/base",
     "model_module_version": "1.2.0",
     "model_name": "LayoutModel",
     "state": {
      "_model_module": "@jupyter-widgets/base",
      "_model_module_version": "1.2.0",
      "_model_name": "LayoutModel",
      "_view_count": null,
      "_view_module": "@jupyter-widgets/base",
      "_view_module_version": "1.2.0",
      "_view_name": "LayoutView",
      "align_content": null,
      "align_items": null,
      "align_self": null,
      "border": null,
      "bottom": null,
      "display": null,
      "flex": null,
      "flex_flow": null,
      "grid_area": null,
      "grid_auto_columns": null,
      "grid_auto_flow": null,
      "grid_auto_rows": null,
      "grid_column": null,
      "grid_gap": null,
      "grid_row": null,
      "grid_template_areas": null,
      "grid_template_columns": null,
      "grid_template_rows": null,
      "height": null,
      "justify_content": null,
      "justify_items": null,
      "left": null,
      "margin": null,
      "max_height": null,
      "max_width": null,
      "min_height": null,
      "min_width": null,
      "object_fit": null,
      "object_position": null,
      "order": null,
      "overflow": null,
      "overflow_x": null,
      "overflow_y": null,
      "padding": null,
      "right": null,
      "top": null,
      "visibility": null,
      "width": null
     }
    },
    "ce46f50d8d4342d1a898731b247f6b2d": {
     "model_module": "@jupyter-widgets/controls",
     "model_module_version": "1.5.0",
     "model_name": "HBoxModel",
     "state": {
      "_dom_classes": [],
      "_model_module": "@jupyter-widgets/controls",
      "_model_module_version": "1.5.0",
      "_model_name": "HBoxModel",
      "_view_count": null,
      "_view_module": "@jupyter-widgets/controls",
      "_view_module_version": "1.5.0",
      "_view_name": "HBoxView",
      "box_style": "",
      "children": [
       "IPY_MODEL_a3b0e3c823e64157a605f4cd9b3e364f",
       "IPY_MODEL_67df71627af3498a839e9a49747d58c4",
       "IPY_MODEL_e79bd8c0a3bb4acda9a6a71366a5b190"
      ],
      "layout": "IPY_MODEL_6f37722036804c66b3dc27baa1d441cc"
     }
    },
    "cec651568ee14c078b220f31d90e5951": {
     "model_module": "@jupyter-widgets/controls",
     "model_module_version": "1.5.0",
     "model_name": "DescriptionStyleModel",
     "state": {
      "_model_module": "@jupyter-widgets/controls",
      "_model_module_version": "1.5.0",
      "_model_name": "DescriptionStyleModel",
      "_view_count": null,
      "_view_module": "@jupyter-widgets/base",
      "_view_module_version": "1.2.0",
      "_view_name": "StyleView",
      "description_width": ""
     }
    },
    "d7a695286cdf439fa1c2f5fef61cf348": {
     "model_module": "@jupyter-widgets/controls",
     "model_module_version": "1.5.0",
     "model_name": "ProgressStyleModel",
     "state": {
      "_model_module": "@jupyter-widgets/controls",
      "_model_module_version": "1.5.0",
      "_model_name": "ProgressStyleModel",
      "_view_count": null,
      "_view_module": "@jupyter-widgets/base",
      "_view_module_version": "1.2.0",
      "_view_name": "StyleView",
      "bar_color": null,
      "description_width": ""
     }
    },
    "e79bd8c0a3bb4acda9a6a71366a5b190": {
     "model_module": "@jupyter-widgets/controls",
     "model_module_version": "1.5.0",
     "model_name": "HTMLModel",
     "state": {
      "_dom_classes": [],
      "_model_module": "@jupyter-widgets/controls",
      "_model_module_version": "1.5.0",
      "_model_name": "HTMLModel",
      "_view_count": null,
      "_view_module": "@jupyter-widgets/controls",
      "_view_module_version": "1.5.0",
      "_view_name": "HTMLView",
      "description": "",
      "description_tooltip": null,
      "layout": "IPY_MODEL_853e0b609e7e4e72b15e92dd9f3fe4dc",
      "placeholder": "​",
      "style": "IPY_MODEL_591819b20fb54cda88bf327338a2c812",
      "value": " 86361/86361 [00:12&lt;00:00, 7206.03it/s]"
     }
    },
    "f76f817885164951bf62816c3f92d896": {
     "model_module": "@jupyter-widgets/controls",
     "model_module_version": "1.5.0",
     "model_name": "HBoxModel",
     "state": {
      "_dom_classes": [],
      "_model_module": "@jupyter-widgets/controls",
      "_model_module_version": "1.5.0",
      "_model_name": "HBoxModel",
      "_view_count": null,
      "_view_module": "@jupyter-widgets/controls",
      "_view_module_version": "1.5.0",
      "_view_name": "HBoxView",
      "box_style": "",
      "children": [
       "IPY_MODEL_77001ff6f02a463c836df5aa497405b4",
       "IPY_MODEL_a944bd7a62c0432092b5a45e90b126ce",
       "IPY_MODEL_6fdc744a3d4442a8a9c59e14fbf4e02f"
      ],
      "layout": "IPY_MODEL_c8a4de927bbc4b9a9a56b30a32f52c0a"
     }
    },
    "f81f94deebf949aebebfeb14b9f84eca": {
     "model_module": "@jupyter-widgets/controls",
     "model_module_version": "1.5.0",
     "model_name": "DescriptionStyleModel",
     "state": {
      "_model_module": "@jupyter-widgets/controls",
      "_model_module_version": "1.5.0",
      "_model_name": "DescriptionStyleModel",
      "_view_count": null,
      "_view_module": "@jupyter-widgets/base",
      "_view_module_version": "1.2.0",
      "_view_name": "StyleView",
      "description_width": ""
     }
    }
   }
  }
 },
 "nbformat": 4,
 "nbformat_minor": 4
}
